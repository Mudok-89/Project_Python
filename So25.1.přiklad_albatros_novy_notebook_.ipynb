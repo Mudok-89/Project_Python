{
 "cells": [
  {
   "cell_type": "markdown",
   "metadata": {},
   "source": [
    "Albatros - URL: https://albatros.cz/bestsellery/\n",
    "\n",
    "1. krok: Ze všech dostupných knih získat odkaz na detail knihy (protože neznáme cenu)\n",
    "2. krok: Pro každou url knihy, kterou získáme v prvním kroku, zjistíme její cenu ..."
   ]
  },
  {
   "cell_type": "code",
   "execution_count": 30,
   "metadata": {},
   "outputs": [],
   "source": [
    "from bs4 import BeautifulSoup\n",
    "import requests"
   ]
  },
  {
   "cell_type": "markdown",
   "metadata": {},
   "source": [
    "### Krok č. 1"
   ]
  },
  {
   "cell_type": "code",
   "execution_count": 31,
   "metadata": {},
   "outputs": [],
   "source": [
    "def ziskej_url_knih():\n",
    "    \"\"\" \n",
    "    Z webu albatros.cz získá url adresy na detail knih, které se na strnce vyskytují \n",
    "    \"\"\"\n",
    "    data = requests.get('https://albatros.cz/bestsellery/').text\n",
    "    soup = BeautifulSoup(data, 'html.parser')\n",
    "    \n",
    "    # Najdi všechny knihy na stránce\n",
    "    list_knih = soup.findAll('article', class_='p-l__item')\n",
    "    url_adresy = []\n",
    "    for kniha in list_knih:\n",
    "        # Zjisti url adresu\n",
    "        \n",
    "        # 1. řešení\n",
    "        #print(kniha.find('h2', class_='p-l-i__title').find('a')['href'])\n",
    "        # 2. řešení\n",
    "        odkaz_tag = kniha.find('h2', class_='p-l-i__title').find('a')\n",
    "        link = 'https://albatros.cz' + odkaz_tag['href']\n",
    "        url_adresy.append(link)\n",
    "        \n",
    "    return url_adresy"
   ]
  },
  {
   "cell_type": "code",
   "execution_count": 32,
   "metadata": {},
   "outputs": [
    {
     "data": {
      "text/plain": [
       "['https://albatros.cz/tituly/92999727/harry-potter-a-kamen-mudrcu-mina-lima/',\n",
       " 'https://albatros.cz/tituly/92881437/harry-potter-vanoce-v-bradavicich/',\n",
       " 'https://albatros.cz/tituly/92744710/vanoce-v-sipkove-ulici/',\n",
       " 'https://albatros.cz/tituly/93272822/rychle-sipy-puvodni-kresby-a-scenare-jaroslava-foglara-jana-fischera-a-marko-cermaka/',\n",
       " 'https://albatros.cz/tituly/46938311/bajky-barda-beedleho-ilustrovane-vydani/',\n",
       " 'https://albatros.cz/tituly/58625635/tucet-pohadek-vojtecha-kubasty/',\n",
       " 'https://albatros.cz/tituly/83747544/robinson-crusoe-vojtech-kubasta/',\n",
       " 'https://albatros.cz/tituly/77598825/rychle-sipy-sesit-1/',\n",
       " 'https://albatros.cz/tituly/43212140/harry-potter-cesta-dejinami-car-a-kouzel/',\n",
       " 'https://albatros.cz/tituly/83695658/karkulin-ze-strechy/',\n",
       " 'https://albatros.cz/tituly/83357639/stolecku-prostri-se/',\n",
       " 'https://albatros.cz/tituly/85325314/tajemny-zivot-lesa/',\n",
       " 'https://albatros.cz/tituly/84572868/rychle-sipy-sesit-2/',\n",
       " 'https://albatros.cz/tituly/87010120/rychle-sipy-sesit-6/',\n",
       " 'https://albatros.cz/tituly/93176457/dubenka/',\n",
       " 'https://albatros.cz/tituly/79046788/jak-bubacek-potkal-bubaka/',\n",
       " 'https://albatros.cz/tituly/83582544/mesto-v-lese/',\n",
       " 'https://albatros.cz/tituly/84724586/jak-spolu-rostliny-mluvi/',\n",
       " 'https://albatros.cz/tituly/87146351/harry-potter-kouzelnicky-almanach/',\n",
       " 'https://albatros.cz/tituly/83747510/alenka-v-risi-divu-vojtech-kubasta/',\n",
       " 'https://albatros.cz/tituly/87009938/rychle-sipy-sesit-4/',\n",
       " 'https://albatros.cz/tituly/87010072/rychle-sipy-sesit-5/',\n",
       " 'https://albatros.cz/tituly/84483755/rychle-sipy-sesit-3/',\n",
       " 'https://albatros.cz/tituly/84465507/bajne-bytosti-a-obludy-stareho-recka/',\n",
       " 'https://albatros.cz/tituly/73169624/proc-ma-mravenecnik-dlouhy-jazyk-a-jak-jsou-dalsi-zviratka-vybavena-k-zivotu/']"
      ]
     },
     "execution_count": 32,
     "metadata": {},
     "output_type": "execute_result"
    }
   ],
   "source": [
    "# Uložit url adresy knih\n",
    "url_knih = ziskej_url_knih()\n",
    "url_knih\n",
    "\n"
   ]
  },
  {
   "cell_type": "code",
   "execution_count": 33,
   "metadata": {},
   "outputs": [],
   "source": [
    "def zjisti_detaily_knihy(url_knih:list[str]) -> list[dict]:\n",
    "    #inicialiizuji list pro uložení objektů knih\n",
    "    knihy = []\n",
    "\n",
    "    for url in url_knih:\n",
    "        #potřebujeme získat HTML kód\n",
    "        data = requests.get(url).text\n",
    "        soup = BeautifulSoup(data, 'html.parser')\n",
    "        # zjišťujeme cenu \n",
    "        cena = soup.find('span', class_='text-nowrap').text.strip()\n",
    "        nazev_knihy = soup.find('div', class_='product__descriptions').find('h1').text\n",
    "        # zjišťujeme kategorii knih\n",
    "        dostupnost = soup.find('span', class_= 'prod__available').text.strip()\n",
    "        objekt_kniha ={\n",
    "            'Cena': cena, \n",
    "            'Nazev knihy': nazev_knihy,\n",
    "            'Dostupnost': dostupnost\n",
    "        }\n",
    "        knihy.append(objekt_kniha)\n",
    "        print('úspěšně jsem odbavil knihu.')\n",
    "    return knihy"
   ]
  },
  {
   "cell_type": "code",
   "execution_count": 34,
   "metadata": {},
   "outputs": [
    {
     "name": "stdout",
     "output_type": "stream",
     "text": [
      "úspěšně jsem odbavil knihu.\n",
      "úspěšně jsem odbavil knihu.\n",
      "úspěšně jsem odbavil knihu.\n",
      "úspěšně jsem odbavil knihu.\n",
      "úspěšně jsem odbavil knihu.\n",
      "úspěšně jsem odbavil knihu.\n",
      "úspěšně jsem odbavil knihu.\n",
      "úspěšně jsem odbavil knihu.\n",
      "úspěšně jsem odbavil knihu.\n",
      "úspěšně jsem odbavil knihu.\n",
      "úspěšně jsem odbavil knihu.\n",
      "úspěšně jsem odbavil knihu.\n",
      "úspěšně jsem odbavil knihu.\n",
      "úspěšně jsem odbavil knihu.\n",
      "úspěšně jsem odbavil knihu.\n",
      "úspěšně jsem odbavil knihu.\n",
      "úspěšně jsem odbavil knihu.\n",
      "úspěšně jsem odbavil knihu.\n",
      "úspěšně jsem odbavil knihu.\n",
      "úspěšně jsem odbavil knihu.\n",
      "úspěšně jsem odbavil knihu.\n",
      "úspěšně jsem odbavil knihu.\n",
      "úspěšně jsem odbavil knihu.\n",
      "úspěšně jsem odbavil knihu.\n",
      "úspěšně jsem odbavil knihu.\n"
     ]
    }
   ],
   "source": []
  },
  {
   "cell_type": "markdown",
   "metadata": {},
   "source": [
    "####pro testování vše píšu do for cyklu bokem než to uložím do funkce níže  def zjisti_detaily_knihy(url_knih: list[str]) -> list[dict]:"
   ]
  },
  {
   "cell_type": "code",
   "execution_count": 46,
   "metadata": {},
   "outputs": [
    {
     "name": "stdout",
     "output_type": "stream",
     "text": [
      "Odbavuju další knihu...\n",
      "['J. K. Rowlingová']\n",
      "Odbavuju další knihu...\n",
      "['J. K. Rowlingová']\n",
      "Odbavuju další knihu...\n",
      "['Alena Mornštajnová']\n",
      "Odbavuju další knihu...\n",
      "['Pavel Kořínek', 'Jaroslav Foglar']\n",
      "Odbavuju další knihu...\n",
      "['J. K. Rowlingová']\n",
      "Odbavuju další knihu...\n",
      "['Štěpánka Sekaninová']\n",
      "Odbavuju další knihu...\n",
      "['Vojtěch Kubašta']\n",
      "Odbavuju další knihu...\n",
      "['Pavel Čech', 'Nikkarin', 'Jaroslav Foglar']\n",
      "Odbavuju další knihu...\n",
      "['J. K. Rowlingová']\n",
      "Odbavuju další knihu...\n",
      "['Astrid Lindgrenová']\n",
      "Odbavuju další knihu...\n",
      "['Vojtěch Kubašta']\n",
      "Odbavuju další knihu...\n",
      "['Jana Sedláčková', 'Klára Holíková', 'Iveta Šedová']\n",
      "Odbavuju další knihu...\n",
      "['Nikkarin', 'Jaroslav Foglar']\n",
      "Odbavuju další knihu...\n",
      "['Džian Baban', 'Jaroslav Foglar']\n",
      "Odbavuju další knihu...\n",
      "['Lucy Flemingová']\n",
      "Odbavuju další knihu...\n",
      "['Daniela Krolupperová']\n",
      "Odbavuju další knihu...\n",
      "['Helena Haraštová']\n",
      "Odbavuju další knihu...\n",
      "['Helena Haraštová']\n",
      "Odbavuju další knihu...\n",
      "['J. K. Rowlingová']\n",
      "Odbavuju další knihu...\n",
      "['Vojtěch Kubašta']\n",
      "Odbavuju další knihu...\n",
      "['Nikkarin', 'Petr Hugo Šlik', 'Honza Smolík', 'Jaroslav Foglar']\n",
      "Odbavuju další knihu...\n",
      "['Nikkarin', 'Jaroslav Foglar', 'Slavomil Janov']\n",
      "Odbavuju další knihu...\n",
      "['Nikkarin', 'Kateřina Čupová', 'Jaroslav Foglar']\n",
      "Odbavuju další knihu...\n",
      "['James Davies']\n",
      "Odbavuju další knihu...\n",
      "['Radka Píro']\n"
     ]
    }
   ],
   "source": [
    "for url in url_knih:\n",
    "        print('Odbavuju další knihu...')\n",
    "        # Potřebujeme získat HTML kód\n",
    "        data = requests.get(url).text\n",
    "        soup = BeautifulSoup(data, 'html.parser')\n",
    "        # Zjišťujeme cenu\n",
    "        cena = soup.find('span', class_='text-nowrap').text.strip()\n",
    "        \n",
    "        # Zjišťujeme název knihy\n",
    "        nazev_knihy = soup.find('div', class_='product__descriptions').find('h1').text\n",
    "        \n",
    "        # Zjišťujeme kategorii knihy\n",
    "        dostupnost = soup.find('span', 'prod__available').text.strip()\n",
    "\n",
    "        # Zjišťujeme žánr knihy\n",
    "        list_zanru = soup.find('div', 'product__param').findAll('span')[1].findAll('a')\n",
    "        #list comprehension\n",
    "        zanry = [zanr.text for zanr in list_zanru]\n",
    "        zanry_string = ', '.join(zanry)\n",
    "        #zjisti počet stran\n",
    "        pocet_stran = soup.findAll('div', 'product__param')[1].find('span', class_='text-nowrap').text.strip()\n",
    "        # zjisti datum vydání\n",
    "        datum_vydání = soup.findAll('div', 'product__param')[3].findAll('span')[1].text\n",
    "        # zjisti jméno autora\n",
    "        list_autoru = soup.find('h3', 'product__author').findAll('a', 'author')\n",
    "        autori = [autor.text for autor in list_autoru]\n",
    "        print(autori)"
   ]
  },
  {
   "cell_type": "markdown",
   "metadata": {},
   "source": [
    "### 2. krok - pro každou url z listu si načteme data z dané url (získáme HTML kód), najdeme cenu pro tuto knihu a uložíme"
   ]
  },
  {
   "cell_type": "code",
   "execution_count": 47,
   "metadata": {},
   "outputs": [],
   "source": [
    "def zjisti_detaily_knihy(url_knih: list[str]) -> list[dict]:\n",
    "    # Inicializuji list pro uložení objektů knih\n",
    "    knihy = []\n",
    "\n",
    "    for url in url_knih:\n",
    "        #print('Odbavuju další knihu...')\n",
    "        # Potřebujeme získat HTML kód\n",
    "        data = requests.get(url).text\n",
    "        soup = BeautifulSoup(data, 'html.parser')\n",
    "        # Zjišťujeme cenu\n",
    "        cena = soup.find('span', class_='text-nowrap').text.strip()\n",
    "        \n",
    "        # Zjišťujeme název knihy\n",
    "        nazev_knihy = soup.find('div', class_='product__descriptions').find('h1').text\n",
    "        \n",
    "        # Zjišťujeme kategorii knihy\n",
    "        dostupnost = soup.find('span', 'prod__available').text.strip()\n",
    "\n",
    "        # Zjišťujeme žánr knihy\n",
    "        list_zanru = soup.find('div', 'product__param').findAll('span')[1].findAll('a')\n",
    "        #list comprehension\n",
    "        zanry = [zanr.text for zanr in list_zanru]\n",
    "        zanry_string = ', '.join(zanry)\n",
    "\n",
    "        # Zjistit počet stran\n",
    "        pocet_stran = soup.findAll('div', 'product__param')[1].find('span', class_='text-nowrap').text.strip() \n",
    "\n",
    "        # Zjistit Datum vydání\n",
    "        datum_vydani = soup.findAll('div', 'product__param')[3].findAll('span')[1].text.replace('\\r\\n', '')\n",
    "\n",
    "        # zjisti jméno autora\n",
    "        list_autoru = soup.find('h3', 'product__author').findAll('a', 'author')\n",
    "        autori = [autor.text for autor in list_autoru]\n",
    "        \n",
    "\n",
    "        objekt_kniha = {\n",
    "            'Cena': cena,\n",
    "            'Název knihy': nazev_knihy,\n",
    "            'Dostupnost': dostupnost,\n",
    "            'Žánr': zanry_string,\n",
    "            'Počet stran': pocet_stran,\n",
    "            'Datum vydání': datum_vydani,\n",
    "            'Autor': autori\n",
    "        }\n",
    "\n",
    "        knihy.append(objekt_kniha)\n",
    "        #print('Úspěšně jsem odbavil knihu.')\n",
    "\n",
    "    return knihy"
   ]
  },
  {
   "cell_type": "markdown",
   "metadata": {},
   "source": [
    "#### Spouštíme kód"
   ]
  },
  {
   "cell_type": "code",
   "execution_count": null,
   "metadata": {},
   "outputs": [],
   "source": [
    "# Uložit url adresy knih\n",
    "url_knih = ziskej_url_knih()\n",
    "url_knih\n"
   ]
  },
  {
   "cell_type": "code",
   "execution_count": 48,
   "metadata": {},
   "outputs": [],
   "source": [
    "# Pro všechny url adresy chci získat detail knih\n",
    "detail_knih = zjisti_detaily_knihy(url_knih)"
   ]
  },
  {
   "cell_type": "markdown",
   "metadata": {},
   "source": [
    "#### transformace dat "
   ]
  },
  {
   "cell_type": "code",
   "execution_count": 69,
   "metadata": {},
   "outputs": [
    {
     "data": {
      "text/html": [
       "<div>\n",
       "<style scoped>\n",
       "    .dataframe tbody tr th:only-of-type {\n",
       "        vertical-align: middle;\n",
       "    }\n",
       "\n",
       "    .dataframe tbody tr th {\n",
       "        vertical-align: top;\n",
       "    }\n",
       "\n",
       "    .dataframe thead th {\n",
       "        text-align: right;\n",
       "    }\n",
       "</style>\n",
       "<table border=\"1\" class=\"dataframe\">\n",
       "  <thead>\n",
       "    <tr style=\"text-align: right;\">\n",
       "      <th></th>\n",
       "      <th>Cena</th>\n",
       "      <th>Název knihy</th>\n",
       "      <th>Dostupnost</th>\n",
       "      <th>Žánr</th>\n",
       "      <th>Počet stran</th>\n",
       "      <th>Datum vydání</th>\n",
       "      <th>Autor</th>\n",
       "    </tr>\n",
       "  </thead>\n",
       "  <tbody>\n",
       "    <tr>\n",
       "      <th>0</th>\n",
       "      <td>999 Kč</td>\n",
       "      <td>Harry Potter a Kámen mudrců - MinaLima</td>\n",
       "      <td>V prodeji</td>\n",
       "      <td>dobrodružství pro děti, fantasy pro děti</td>\n",
       "      <td>368</td>\n",
       "      <td>04.11.2024</td>\n",
       "      <td>[J. K. Rowlingová]</td>\n",
       "    </tr>\n",
       "    <tr>\n",
       "      <th>1</th>\n",
       "      <td>449 Kč</td>\n",
       "      <td>Harry Potter: Vánoce v Bradavicích</td>\n",
       "      <td>V prodeji</td>\n",
       "      <td>obrázková kniha, fantasy pro děti</td>\n",
       "      <td>48</td>\n",
       "      <td>21.10.2024</td>\n",
       "      <td>[J. K. Rowlingová]</td>\n",
       "    </tr>\n",
       "    <tr>\n",
       "      <th>2</th>\n",
       "      <td>299 Kč</td>\n",
       "      <td>Vánoce v Šípkové ulici</td>\n",
       "      <td>V prodeji</td>\n",
       "      <td>humor pro děti, pohádka, příběhy dětí</td>\n",
       "      <td>56</td>\n",
       "      <td>21.10.2024</td>\n",
       "      <td>[Alena Mornštajnová]</td>\n",
       "    </tr>\n",
       "    <tr>\n",
       "      <th>3</th>\n",
       "      <td>999 Kč</td>\n",
       "      <td>Rychlé šípy: Původní kresby a scénáře Jaroslav...</td>\n",
       "      <td>V prodeji</td>\n",
       "      <td>dobrodružství pro děti, humor pro děti, komiks</td>\n",
       "      <td>240</td>\n",
       "      <td>02.12.2024</td>\n",
       "      <td>[Pavel Kořínek, Jaroslav Foglar]</td>\n",
       "    </tr>\n",
       "    <tr>\n",
       "      <th>4</th>\n",
       "      <td>499 Kč</td>\n",
       "      <td>Bajky barda Beedleho - ilustrované vydání</td>\n",
       "      <td>V prodeji</td>\n",
       "      <td>fantasy pro děti</td>\n",
       "      <td>160</td>\n",
       "      <td>08.10.2018</td>\n",
       "      <td>[J. K. Rowlingová]</td>\n",
       "    </tr>\n",
       "    <tr>\n",
       "      <th>5</th>\n",
       "      <td>499 Kč</td>\n",
       "      <td>Tucet pohádek Vojtěcha Kubašty</td>\n",
       "      <td>V prodeji</td>\n",
       "      <td>pohádka, leporelo, 3D knihy</td>\n",
       "      <td>60</td>\n",
       "      <td>18.11.2019</td>\n",
       "      <td>[Štěpánka Sekaninová]</td>\n",
       "    </tr>\n",
       "    <tr>\n",
       "      <th>6</th>\n",
       "      <td>399 Kč</td>\n",
       "      <td>Robinson Crusoe - Vojtěch Kubašta</td>\n",
       "      <td>V prodeji</td>\n",
       "      <td>obrázková kniha, pohádka, naučná beletrie pro ...</td>\n",
       "      <td>8</td>\n",
       "      <td>06.03.2023</td>\n",
       "      <td>[Vojtěch Kubašta]</td>\n",
       "    </tr>\n",
       "    <tr>\n",
       "      <th>7</th>\n",
       "      <td>249 Kč</td>\n",
       "      <td>Rychlé šípy - sešit 1</td>\n",
       "      <td>V prodeji</td>\n",
       "      <td>dobrodružství pro děti, komiks, knihy her a ná...</td>\n",
       "      <td>72</td>\n",
       "      <td>19.05.2022</td>\n",
       "      <td>[Pavel Čech, Nikkarin, Jaroslav Foglar]</td>\n",
       "    </tr>\n",
       "    <tr>\n",
       "      <th>8</th>\n",
       "      <td>399 Kč</td>\n",
       "      <td>Harry Potter: Cesta dějinami čar a kouzel</td>\n",
       "      <td>V prodeji</td>\n",
       "      <td>encyklopedie, fantasy pro děti</td>\n",
       "      <td>144</td>\n",
       "      <td>24.05.2018</td>\n",
       "      <td>[J. K. Rowlingová]</td>\n",
       "    </tr>\n",
       "    <tr>\n",
       "      <th>9</th>\n",
       "      <td>299 Kč</td>\n",
       "      <td>Karkulín ze střechy</td>\n",
       "      <td>V prodeji</td>\n",
       "      <td>příběhy dětí</td>\n",
       "      <td>200</td>\n",
       "      <td>07.11.2022</td>\n",
       "      <td>[Astrid Lindgrenová]</td>\n",
       "    </tr>\n",
       "    <tr>\n",
       "      <th>10</th>\n",
       "      <td>299 Kč</td>\n",
       "      <td>Stolečku, prostři se</td>\n",
       "      <td>V prodeji</td>\n",
       "      <td>pohádka, 3D knihy</td>\n",
       "      <td>12</td>\n",
       "      <td>16.01.2023</td>\n",
       "      <td>[Vojtěch Kubašta]</td>\n",
       "    </tr>\n",
       "    <tr>\n",
       "      <th>11</th>\n",
       "      <td>299 Kč</td>\n",
       "      <td>Tajemný život lesa</td>\n",
       "      <td>V prodeji</td>\n",
       "      <td>další dětské naučné knihy</td>\n",
       "      <td>64</td>\n",
       "      <td>31.10.2022</td>\n",
       "      <td>[Jana Sedláčková, Klára Holíková, Iveta Šedová]</td>\n",
       "    </tr>\n",
       "    <tr>\n",
       "      <th>12</th>\n",
       "      <td>299 Kč</td>\n",
       "      <td>Rychlé šípy - sešit 2</td>\n",
       "      <td>V prodeji</td>\n",
       "      <td>dobrodružství pro děti, komiks</td>\n",
       "      <td>72</td>\n",
       "      <td>12.09.2022</td>\n",
       "      <td>[Nikkarin, Jaroslav Foglar]</td>\n",
       "    </tr>\n",
       "    <tr>\n",
       "      <th>13</th>\n",
       "      <td>299 Kč</td>\n",
       "      <td>Rychlé šípy - sešit 6</td>\n",
       "      <td>V prodeji</td>\n",
       "      <td>dobrodružství pro děti, komiks</td>\n",
       "      <td>72</td>\n",
       "      <td>205x300 mm\\n</td>\n",
       "      <td>[Džian Baban, Jaroslav Foglar]</td>\n",
       "    </tr>\n",
       "    <tr>\n",
       "      <th>14</th>\n",
       "      <td>349 Kč</td>\n",
       "      <td>Duběnka</td>\n",
       "      <td>Nedostupné</td>\n",
       "      <td>obrázková kniha, pohádka</td>\n",
       "      <td>32</td>\n",
       "      <td>21.10.2024</td>\n",
       "      <td>[Lucy Flemingová]</td>\n",
       "    </tr>\n",
       "    <tr>\n",
       "      <th>15</th>\n",
       "      <td>199 Kč</td>\n",
       "      <td>Jak Bubáček potkal Bubáka</td>\n",
       "      <td>V prodeji</td>\n",
       "      <td>příběhy dětí</td>\n",
       "      <td>72</td>\n",
       "      <td>27.09.2021</td>\n",
       "      <td>[Daniela Krolupperová]</td>\n",
       "    </tr>\n",
       "    <tr>\n",
       "      <th>16</th>\n",
       "      <td>249 Kč</td>\n",
       "      <td>Město v lese</td>\n",
       "      <td>V prodeji</td>\n",
       "      <td>další dětské naučné knihy, interaktivní knihy</td>\n",
       "      <td>32</td>\n",
       "      <td>17.10.2022</td>\n",
       "      <td>[Helena Haraštová]</td>\n",
       "    </tr>\n",
       "    <tr>\n",
       "      <th>17</th>\n",
       "      <td>199 Kč</td>\n",
       "      <td>Jak spolu rostliny mluví</td>\n",
       "      <td>V prodeji</td>\n",
       "      <td>další dětské naučné knihy</td>\n",
       "      <td>14</td>\n",
       "      <td>10.04.2023</td>\n",
       "      <td>[Helena Haraštová]</td>\n",
       "    </tr>\n",
       "    <tr>\n",
       "      <th>18</th>\n",
       "      <td>699 Kč</td>\n",
       "      <td>Harry Potter: Kouzelnický almanach</td>\n",
       "      <td>V prodeji</td>\n",
       "      <td>obrázková kniha, encyklopedie, fantasy pro děti</td>\n",
       "      <td>208</td>\n",
       "      <td>16.10.2023</td>\n",
       "      <td>[J. K. Rowlingová]</td>\n",
       "    </tr>\n",
       "    <tr>\n",
       "      <th>19</th>\n",
       "      <td>399 Kč</td>\n",
       "      <td>Alenka v říši divů - Vojtěch Kubašta</td>\n",
       "      <td>V prodeji</td>\n",
       "      <td>obrázková kniha, pohádka, naučná beletrie pro ...</td>\n",
       "      <td>8</td>\n",
       "      <td>30.03.2023</td>\n",
       "      <td>[Vojtěch Kubašta]</td>\n",
       "    </tr>\n",
       "  </tbody>\n",
       "</table>\n",
       "</div>"
      ],
      "text/plain": [
       "      Cena                                        Název knihy  Dostupnost  \\\n",
       "0   999 Kč             Harry Potter a Kámen mudrců - MinaLima   V prodeji   \n",
       "1   449 Kč                 Harry Potter: Vánoce v Bradavicích   V prodeji   \n",
       "2   299 Kč                             Vánoce v Šípkové ulici   V prodeji   \n",
       "3   999 Kč  Rychlé šípy: Původní kresby a scénáře Jaroslav...   V prodeji   \n",
       "4   499 Kč          Bajky barda Beedleho - ilustrované vydání   V prodeji   \n",
       "5   499 Kč                     Tucet pohádek Vojtěcha Kubašty   V prodeji   \n",
       "6   399 Kč                  Robinson Crusoe - Vojtěch Kubašta   V prodeji   \n",
       "7   249 Kč                              Rychlé šípy - sešit 1   V prodeji   \n",
       "8   399 Kč          Harry Potter: Cesta dějinami čar a kouzel   V prodeji   \n",
       "9   299 Kč                                Karkulín ze střechy   V prodeji   \n",
       "10  299 Kč                               Stolečku, prostři se   V prodeji   \n",
       "11  299 Kč                                 Tajemný život lesa   V prodeji   \n",
       "12  299 Kč                              Rychlé šípy - sešit 2   V prodeji   \n",
       "13  299 Kč                              Rychlé šípy - sešit 6   V prodeji   \n",
       "14  349 Kč                                            Duběnka  Nedostupné   \n",
       "15  199 Kč                          Jak Bubáček potkal Bubáka   V prodeji   \n",
       "16  249 Kč                                       Město v lese   V prodeji   \n",
       "17  199 Kč                           Jak spolu rostliny mluví   V prodeji   \n",
       "18  699 Kč                 Harry Potter: Kouzelnický almanach   V prodeji   \n",
       "19  399 Kč               Alenka v říši divů - Vojtěch Kubašta   V prodeji   \n",
       "\n",
       "                                                 Žánr Počet stran  \\\n",
       "0            dobrodružství pro děti, fantasy pro děti         368   \n",
       "1                   obrázková kniha, fantasy pro děti          48   \n",
       "2               humor pro děti, pohádka, příběhy dětí          56   \n",
       "3      dobrodružství pro děti, humor pro děti, komiks         240   \n",
       "4                                    fantasy pro děti         160   \n",
       "5                         pohádka, leporelo, 3D knihy          60   \n",
       "6   obrázková kniha, pohádka, naučná beletrie pro ...           8   \n",
       "7   dobrodružství pro děti, komiks, knihy her a ná...          72   \n",
       "8                      encyklopedie, fantasy pro děti         144   \n",
       "9                                        příběhy dětí         200   \n",
       "10                                  pohádka, 3D knihy          12   \n",
       "11                          další dětské naučné knihy          64   \n",
       "12                     dobrodružství pro děti, komiks          72   \n",
       "13                     dobrodružství pro děti, komiks          72   \n",
       "14                           obrázková kniha, pohádka          32   \n",
       "15                                       příběhy dětí          72   \n",
       "16      další dětské naučné knihy, interaktivní knihy          32   \n",
       "17                          další dětské naučné knihy          14   \n",
       "18    obrázková kniha, encyklopedie, fantasy pro děti         208   \n",
       "19  obrázková kniha, pohádka, naučná beletrie pro ...           8   \n",
       "\n",
       "    Datum vydání                                            Autor  \n",
       "0     04.11.2024                               [J. K. Rowlingová]  \n",
       "1     21.10.2024                               [J. K. Rowlingová]  \n",
       "2     21.10.2024                             [Alena Mornštajnová]  \n",
       "3     02.12.2024                 [Pavel Kořínek, Jaroslav Foglar]  \n",
       "4     08.10.2018                               [J. K. Rowlingová]  \n",
       "5     18.11.2019                            [Štěpánka Sekaninová]  \n",
       "6     06.03.2023                                [Vojtěch Kubašta]  \n",
       "7     19.05.2022          [Pavel Čech, Nikkarin, Jaroslav Foglar]  \n",
       "8     24.05.2018                               [J. K. Rowlingová]  \n",
       "9     07.11.2022                             [Astrid Lindgrenová]  \n",
       "10    16.01.2023                                [Vojtěch Kubašta]  \n",
       "11    31.10.2022  [Jana Sedláčková, Klára Holíková, Iveta Šedová]  \n",
       "12    12.09.2022                      [Nikkarin, Jaroslav Foglar]  \n",
       "13  205x300 mm\\n                   [Džian Baban, Jaroslav Foglar]  \n",
       "14    21.10.2024                                [Lucy Flemingová]  \n",
       "15    27.09.2021                           [Daniela Krolupperová]  \n",
       "16    17.10.2022                               [Helena Haraštová]  \n",
       "17    10.04.2023                               [Helena Haraštová]  \n",
       "18    16.10.2023                               [J. K. Rowlingová]  \n",
       "19    30.03.2023                                [Vojtěch Kubašta]  "
      ]
     },
     "execution_count": 69,
     "metadata": {},
     "output_type": "execute_result"
    }
   ],
   "source": [
    "import pandas as pd\n",
    "\n",
    "df = pd.DataFrame(detail_knih)\n",
    "df.head(20)"
   ]
  },
  {
   "cell_type": "markdown",
   "metadata": {},
   "source": [
    "### můžeme si data vyexportovat nebo můžeme pracovat rovnou dál "
   ]
  },
  {
   "cell_type": "code",
   "execution_count": null,
   "metadata": {},
   "outputs": [],
   "source": [
    "df.to_excel('knihy_bestsellery_opakovani1.xlsx')"
   ]
  },
  {
   "cell_type": "code",
   "execution_count": 70,
   "metadata": {},
   "outputs": [
    {
     "name": "stdout",
     "output_type": "stream",
     "text": [
      "<class 'pandas.core.frame.DataFrame'>\n",
      "RangeIndex: 25 entries, 0 to 24\n",
      "Data columns (total 7 columns):\n",
      " #   Column        Non-Null Count  Dtype \n",
      "---  ------        --------------  ----- \n",
      " 0   Cena          25 non-null     object\n",
      " 1   Název knihy   25 non-null     object\n",
      " 2   Dostupnost    25 non-null     object\n",
      " 3   Žánr          25 non-null     object\n",
      " 4   Počet stran   25 non-null     object\n",
      " 5   Datum vydání  25 non-null     object\n",
      " 6   Autor         25 non-null     object\n",
      "dtypes: object(7)\n",
      "memory usage: 1.5+ KB\n"
     ]
    }
   ],
   "source": [
    "df.info()"
   ]
  },
  {
   "cell_type": "markdown",
   "metadata": {},
   "source": [
    "### získat správné datové typy"
   ]
  },
  {
   "cell_type": "markdown",
   "metadata": {},
   "source": [
    "####POmocí metody split rozdělit cenu do 2 sloupců -cena a měna, když potřebujeme měnu zachovat"
   ]
  },
  {
   "cell_type": "code",
   "execution_count": 72,
   "metadata": {},
   "outputs": [],
   "source": [
    "df['Měna'] = df['Cena'].str.split().str[1]\n",
    "df['Cena'] = df['Cena'].str.split().str[0].astype(float)"
   ]
  },
  {
   "cell_type": "code",
   "execution_count": 73,
   "metadata": {},
   "outputs": [
    {
     "data": {
      "text/html": [
       "<div>\n",
       "<style scoped>\n",
       "    .dataframe tbody tr th:only-of-type {\n",
       "        vertical-align: middle;\n",
       "    }\n",
       "\n",
       "    .dataframe tbody tr th {\n",
       "        vertical-align: top;\n",
       "    }\n",
       "\n",
       "    .dataframe thead th {\n",
       "        text-align: right;\n",
       "    }\n",
       "</style>\n",
       "<table border=\"1\" class=\"dataframe\">\n",
       "  <thead>\n",
       "    <tr style=\"text-align: right;\">\n",
       "      <th></th>\n",
       "      <th>Cena</th>\n",
       "      <th>Název knihy</th>\n",
       "      <th>Dostupnost</th>\n",
       "      <th>Žánr</th>\n",
       "      <th>Počet stran</th>\n",
       "      <th>Datum vydání</th>\n",
       "      <th>Autor</th>\n",
       "      <th>Měna</th>\n",
       "    </tr>\n",
       "  </thead>\n",
       "  <tbody>\n",
       "    <tr>\n",
       "      <th>0</th>\n",
       "      <td>999.0</td>\n",
       "      <td>Harry Potter a Kámen mudrců - MinaLima</td>\n",
       "      <td>V prodeji</td>\n",
       "      <td>dobrodružství pro děti, fantasy pro děti</td>\n",
       "      <td>368</td>\n",
       "      <td>04.11.2024</td>\n",
       "      <td>[J. K. Rowlingová]</td>\n",
       "      <td>Kč</td>\n",
       "    </tr>\n",
       "    <tr>\n",
       "      <th>1</th>\n",
       "      <td>449.0</td>\n",
       "      <td>Harry Potter: Vánoce v Bradavicích</td>\n",
       "      <td>V prodeji</td>\n",
       "      <td>obrázková kniha, fantasy pro děti</td>\n",
       "      <td>48</td>\n",
       "      <td>21.10.2024</td>\n",
       "      <td>[J. K. Rowlingová]</td>\n",
       "      <td>Kč</td>\n",
       "    </tr>\n",
       "    <tr>\n",
       "      <th>2</th>\n",
       "      <td>299.0</td>\n",
       "      <td>Vánoce v Šípkové ulici</td>\n",
       "      <td>V prodeji</td>\n",
       "      <td>humor pro děti, pohádka, příběhy dětí</td>\n",
       "      <td>56</td>\n",
       "      <td>21.10.2024</td>\n",
       "      <td>[Alena Mornštajnová]</td>\n",
       "      <td>Kč</td>\n",
       "    </tr>\n",
       "    <tr>\n",
       "      <th>3</th>\n",
       "      <td>999.0</td>\n",
       "      <td>Rychlé šípy: Původní kresby a scénáře Jaroslav...</td>\n",
       "      <td>V prodeji</td>\n",
       "      <td>dobrodružství pro děti, humor pro děti, komiks</td>\n",
       "      <td>240</td>\n",
       "      <td>02.12.2024</td>\n",
       "      <td>[Pavel Kořínek, Jaroslav Foglar]</td>\n",
       "      <td>Kč</td>\n",
       "    </tr>\n",
       "    <tr>\n",
       "      <th>4</th>\n",
       "      <td>499.0</td>\n",
       "      <td>Bajky barda Beedleho - ilustrované vydání</td>\n",
       "      <td>V prodeji</td>\n",
       "      <td>fantasy pro děti</td>\n",
       "      <td>160</td>\n",
       "      <td>08.10.2018</td>\n",
       "      <td>[J. K. Rowlingová]</td>\n",
       "      <td>Kč</td>\n",
       "    </tr>\n",
       "  </tbody>\n",
       "</table>\n",
       "</div>"
      ],
      "text/plain": [
       "    Cena                                        Název knihy Dostupnost  \\\n",
       "0  999.0             Harry Potter a Kámen mudrců - MinaLima  V prodeji   \n",
       "1  449.0                 Harry Potter: Vánoce v Bradavicích  V prodeji   \n",
       "2  299.0                             Vánoce v Šípkové ulici  V prodeji   \n",
       "3  999.0  Rychlé šípy: Původní kresby a scénáře Jaroslav...  V prodeji   \n",
       "4  499.0          Bajky barda Beedleho - ilustrované vydání  V prodeji   \n",
       "\n",
       "                                             Žánr Počet stran Datum vydání  \\\n",
       "0        dobrodružství pro děti, fantasy pro děti         368   04.11.2024   \n",
       "1               obrázková kniha, fantasy pro děti          48   21.10.2024   \n",
       "2           humor pro děti, pohádka, příběhy dětí          56   21.10.2024   \n",
       "3  dobrodružství pro děti, humor pro děti, komiks         240   02.12.2024   \n",
       "4                                fantasy pro děti         160   08.10.2018   \n",
       "\n",
       "                              Autor Měna  \n",
       "0                [J. K. Rowlingová]   Kč  \n",
       "1                [J. K. Rowlingová]   Kč  \n",
       "2              [Alena Mornštajnová]   Kč  \n",
       "3  [Pavel Kořínek, Jaroslav Foglar]   Kč  \n",
       "4                [J. K. Rowlingová]   Kč  "
      ]
     },
     "execution_count": 73,
     "metadata": {},
     "output_type": "execute_result"
    }
   ],
   "source": [
    "df.head()"
   ]
  },
  {
   "cell_type": "markdown",
   "metadata": {},
   "source": [
    "###2. způsob když nechci uchovat informaci o měně a chci ji nahradit něčím jiným - použiju metodu replace a tím odmažu měnu "
   ]
  },
  {
   "cell_type": "code",
   "execution_count": null,
   "metadata": {},
   "outputs": [],
   "source": [
    "\n",
    "#df['Cena'].astype(float)\n",
    "#musím před přetypováním stringové ceny smazat tu mezeru a nahradit tu měnu, takže musíme použít replace funkci a pak smazat mezery pomocí strip, ale u stringu musím použít ještě str před fcí\n",
    "df['Cena'] = (df['Cena']\n",
    "              .str.replace('Kč', '')\n",
    "              .str.strip()\n",
    "              .astype(float))  # potřebuji to uložit do toho dataframe takže napíšu nazačátek df['Cena'] ="
   ]
  },
  {
   "cell_type": "code",
   "execution_count": 74,
   "metadata": {},
   "outputs": [
    {
     "data": {
      "text/html": [
       "<div>\n",
       "<style scoped>\n",
       "    .dataframe tbody tr th:only-of-type {\n",
       "        vertical-align: middle;\n",
       "    }\n",
       "\n",
       "    .dataframe tbody tr th {\n",
       "        vertical-align: top;\n",
       "    }\n",
       "\n",
       "    .dataframe thead th {\n",
       "        text-align: right;\n",
       "    }\n",
       "</style>\n",
       "<table border=\"1\" class=\"dataframe\">\n",
       "  <thead>\n",
       "    <tr style=\"text-align: right;\">\n",
       "      <th></th>\n",
       "      <th>Cena</th>\n",
       "      <th>Název knihy</th>\n",
       "      <th>Dostupnost</th>\n",
       "      <th>Žánr</th>\n",
       "      <th>Počet stran</th>\n",
       "      <th>Datum vydání</th>\n",
       "      <th>Autor</th>\n",
       "      <th>Měna</th>\n",
       "    </tr>\n",
       "  </thead>\n",
       "  <tbody>\n",
       "    <tr>\n",
       "      <th>0</th>\n",
       "      <td>999.0</td>\n",
       "      <td>Harry Potter a Kámen mudrců - MinaLima</td>\n",
       "      <td>V prodeji</td>\n",
       "      <td>dobrodružství pro děti, fantasy pro děti</td>\n",
       "      <td>368</td>\n",
       "      <td>04.11.2024</td>\n",
       "      <td>[J. K. Rowlingová]</td>\n",
       "      <td>Kč</td>\n",
       "    </tr>\n",
       "    <tr>\n",
       "      <th>1</th>\n",
       "      <td>449.0</td>\n",
       "      <td>Harry Potter: Vánoce v Bradavicích</td>\n",
       "      <td>V prodeji</td>\n",
       "      <td>obrázková kniha, fantasy pro děti</td>\n",
       "      <td>48</td>\n",
       "      <td>21.10.2024</td>\n",
       "      <td>[J. K. Rowlingová]</td>\n",
       "      <td>Kč</td>\n",
       "    </tr>\n",
       "    <tr>\n",
       "      <th>2</th>\n",
       "      <td>299.0</td>\n",
       "      <td>Vánoce v Šípkové ulici</td>\n",
       "      <td>V prodeji</td>\n",
       "      <td>humor pro děti, pohádka, příběhy dětí</td>\n",
       "      <td>56</td>\n",
       "      <td>21.10.2024</td>\n",
       "      <td>[Alena Mornštajnová]</td>\n",
       "      <td>Kč</td>\n",
       "    </tr>\n",
       "    <tr>\n",
       "      <th>3</th>\n",
       "      <td>999.0</td>\n",
       "      <td>Rychlé šípy: Původní kresby a scénáře Jaroslav...</td>\n",
       "      <td>V prodeji</td>\n",
       "      <td>dobrodružství pro děti, humor pro děti, komiks</td>\n",
       "      <td>240</td>\n",
       "      <td>02.12.2024</td>\n",
       "      <td>[Pavel Kořínek, Jaroslav Foglar]</td>\n",
       "      <td>Kč</td>\n",
       "    </tr>\n",
       "    <tr>\n",
       "      <th>4</th>\n",
       "      <td>499.0</td>\n",
       "      <td>Bajky barda Beedleho - ilustrované vydání</td>\n",
       "      <td>V prodeji</td>\n",
       "      <td>fantasy pro děti</td>\n",
       "      <td>160</td>\n",
       "      <td>08.10.2018</td>\n",
       "      <td>[J. K. Rowlingová]</td>\n",
       "      <td>Kč</td>\n",
       "    </tr>\n",
       "  </tbody>\n",
       "</table>\n",
       "</div>"
      ],
      "text/plain": [
       "    Cena                                        Název knihy Dostupnost  \\\n",
       "0  999.0             Harry Potter a Kámen mudrců - MinaLima  V prodeji   \n",
       "1  449.0                 Harry Potter: Vánoce v Bradavicích  V prodeji   \n",
       "2  299.0                             Vánoce v Šípkové ulici  V prodeji   \n",
       "3  999.0  Rychlé šípy: Původní kresby a scénáře Jaroslav...  V prodeji   \n",
       "4  499.0          Bajky barda Beedleho - ilustrované vydání  V prodeji   \n",
       "\n",
       "                                             Žánr Počet stran Datum vydání  \\\n",
       "0        dobrodružství pro děti, fantasy pro děti         368   04.11.2024   \n",
       "1               obrázková kniha, fantasy pro děti          48   21.10.2024   \n",
       "2           humor pro děti, pohádka, příběhy dětí          56   21.10.2024   \n",
       "3  dobrodružství pro děti, humor pro děti, komiks         240   02.12.2024   \n",
       "4                                fantasy pro děti         160   08.10.2018   \n",
       "\n",
       "                              Autor Měna  \n",
       "0                [J. K. Rowlingová]   Kč  \n",
       "1                [J. K. Rowlingová]   Kč  \n",
       "2              [Alena Mornštajnová]   Kč  \n",
       "3  [Pavel Kořínek, Jaroslav Foglar]   Kč  \n",
       "4                [J. K. Rowlingová]   Kč  "
      ]
     },
     "execution_count": 74,
     "metadata": {},
     "output_type": "execute_result"
    }
   ],
   "source": [
    "df.head()"
   ]
  },
  {
   "cell_type": "code",
   "execution_count": 75,
   "metadata": {},
   "outputs": [
    {
     "name": "stdout",
     "output_type": "stream",
     "text": [
      "<class 'pandas.core.frame.DataFrame'>\n",
      "RangeIndex: 25 entries, 0 to 24\n",
      "Data columns (total 8 columns):\n",
      " #   Column        Non-Null Count  Dtype  \n",
      "---  ------        --------------  -----  \n",
      " 0   Cena          25 non-null     float64\n",
      " 1   Název knihy   25 non-null     object \n",
      " 2   Dostupnost    25 non-null     object \n",
      " 3   Žánr          25 non-null     object \n",
      " 4   Počet stran   25 non-null     object \n",
      " 5   Datum vydání  25 non-null     object \n",
      " 6   Autor         25 non-null     object \n",
      " 7   Měna          25 non-null     object \n",
      "dtypes: float64(1), object(7)\n",
      "memory usage: 1.7+ KB\n"
     ]
    }
   ],
   "source": [
    "df.info()"
   ]
  },
  {
   "cell_type": "markdown",
   "metadata": {},
   "source": [
    "###Přetypovat počet stran na celé číslo "
   ]
  },
  {
   "cell_type": "code",
   "execution_count": 80,
   "metadata": {},
   "outputs": [],
   "source": [
    "df['Počet stran'] = (df['Počet stran'].astype(int))"
   ]
  },
  {
   "cell_type": "code",
   "execution_count": 81,
   "metadata": {},
   "outputs": [
    {
     "name": "stdout",
     "output_type": "stream",
     "text": [
      "<class 'pandas.core.frame.DataFrame'>\n",
      "RangeIndex: 25 entries, 0 to 24\n",
      "Data columns (total 8 columns):\n",
      " #   Column        Non-Null Count  Dtype  \n",
      "---  ------        --------------  -----  \n",
      " 0   Cena          25 non-null     float64\n",
      " 1   Název knihy   25 non-null     object \n",
      " 2   Dostupnost    25 non-null     object \n",
      " 3   Žánr          25 non-null     object \n",
      " 4   Počet stran   25 non-null     int32  \n",
      " 5   Datum vydání  25 non-null     object \n",
      " 6   Autor         25 non-null     object \n",
      " 7   Měna          25 non-null     object \n",
      "dtypes: float64(1), int32(1), object(6)\n",
      "memory usage: 1.6+ KB\n"
     ]
    }
   ],
   "source": [
    "df.info()"
   ]
  },
  {
   "cell_type": "code",
   "execution_count": 86,
   "metadata": {},
   "outputs": [
    {
     "data": {
      "text/plain": [
       "0    2024-11-04\n",
       "1    2024-10-21\n",
       "2    2024-10-21\n",
       "3    2024-12-02\n",
       "4    2018-10-08\n",
       "5    2019-11-18\n",
       "6    2023-03-06\n",
       "7    2022-05-19\n",
       "8    2018-05-24\n",
       "9    2022-11-07\n",
       "10   2023-01-16\n",
       "11   2022-10-31\n",
       "12   2022-09-12\n",
       "13          NaT\n",
       "14   2024-10-21\n",
       "15   2021-09-27\n",
       "16   2022-10-17\n",
       "17   2023-04-10\n",
       "18   2023-10-16\n",
       "19   2023-03-30\n",
       "20   2023-04-17\n",
       "21   2023-10-30\n",
       "22   2022-12-01\n",
       "23   2023-02-06\n",
       "24   2021-09-20\n",
       "Name: Datum vydání, dtype: datetime64[ns]"
      ]
     },
     "execution_count": 86,
     "metadata": {},
     "output_type": "execute_result"
    }
   ],
   "source": [
    "df['Datum vydání']"
   ]
  },
  {
   "cell_type": "code",
   "execution_count": 89,
   "metadata": {},
   "outputs": [],
   "source": [
    "df['Datum vydání'] = pd.to_datetime(df['Datum vydání'], format='mixed', errors='coerce')   # format='%d.%m.%Y' nebo format='mixed'     a errors='coerce' přepíše chyby na nulové hodnoty Nat"
   ]
  },
  {
   "cell_type": "code",
   "execution_count": 88,
   "metadata": {},
   "outputs": [
    {
     "name": "stdout",
     "output_type": "stream",
     "text": [
      "<class 'pandas.core.frame.DataFrame'>\n",
      "RangeIndex: 25 entries, 0 to 24\n",
      "Data columns (total 8 columns):\n",
      " #   Column        Non-Null Count  Dtype         \n",
      "---  ------        --------------  -----         \n",
      " 0   Cena          25 non-null     float64       \n",
      " 1   Název knihy   25 non-null     object        \n",
      " 2   Dostupnost    25 non-null     object        \n",
      " 3   Žánr          25 non-null     object        \n",
      " 4   Počet stran   25 non-null     int32         \n",
      " 5   Datum vydání  24 non-null     datetime64[ns]\n",
      " 6   Autor         25 non-null     object        \n",
      " 7   Měna          25 non-null     object        \n",
      "dtypes: datetime64[ns](1), float64(1), int32(1), object(5)\n",
      "memory usage: 1.6+ KB\n"
     ]
    }
   ],
   "source": [
    "df.info()"
   ]
  },
  {
   "cell_type": "code",
   "execution_count": 100,
   "metadata": {},
   "outputs": [
    {
     "data": {
      "text/html": [
       "<div>\n",
       "<style scoped>\n",
       "    .dataframe tbody tr th:only-of-type {\n",
       "        vertical-align: middle;\n",
       "    }\n",
       "\n",
       "    .dataframe tbody tr th {\n",
       "        vertical-align: top;\n",
       "    }\n",
       "\n",
       "    .dataframe thead th {\n",
       "        text-align: right;\n",
       "    }\n",
       "</style>\n",
       "<table border=\"1\" class=\"dataframe\">\n",
       "  <thead>\n",
       "    <tr style=\"text-align: right;\">\n",
       "      <th></th>\n",
       "      <th>Cena</th>\n",
       "      <th>Název knihy</th>\n",
       "      <th>Dostupnost</th>\n",
       "      <th>Žánr</th>\n",
       "      <th>Počet stran</th>\n",
       "      <th>Datum vydání</th>\n",
       "      <th>Autor</th>\n",
       "      <th>Měna</th>\n",
       "    </tr>\n",
       "  </thead>\n",
       "  <tbody>\n",
       "    <tr>\n",
       "      <th>0</th>\n",
       "      <td>999.0</td>\n",
       "      <td>Harry Potter a Kámen mudrců - MinaLima</td>\n",
       "      <td>V prodeji</td>\n",
       "      <td>dobrodružství pro děti, fantasy pro děti</td>\n",
       "      <td>368</td>\n",
       "      <td>2024-11-04</td>\n",
       "      <td>[J. K. Rowlingová]</td>\n",
       "      <td>Kč</td>\n",
       "    </tr>\n",
       "    <tr>\n",
       "      <th>1</th>\n",
       "      <td>449.0</td>\n",
       "      <td>Harry Potter: Vánoce v Bradavicích</td>\n",
       "      <td>V prodeji</td>\n",
       "      <td>obrázková kniha, fantasy pro děti</td>\n",
       "      <td>48</td>\n",
       "      <td>2024-10-21</td>\n",
       "      <td>[J. K. Rowlingová]</td>\n",
       "      <td>Kč</td>\n",
       "    </tr>\n",
       "    <tr>\n",
       "      <th>2</th>\n",
       "      <td>299.0</td>\n",
       "      <td>Vánoce v Šípkové ulici</td>\n",
       "      <td>V prodeji</td>\n",
       "      <td>humor pro děti, pohádka, příběhy dětí</td>\n",
       "      <td>56</td>\n",
       "      <td>2024-10-21</td>\n",
       "      <td>[Alena Mornštajnová]</td>\n",
       "      <td>Kč</td>\n",
       "    </tr>\n",
       "    <tr>\n",
       "      <th>3</th>\n",
       "      <td>999.0</td>\n",
       "      <td>Rychlé šípy: Původní kresby a scénáře Jaroslav...</td>\n",
       "      <td>V prodeji</td>\n",
       "      <td>dobrodružství pro děti, humor pro děti, komiks</td>\n",
       "      <td>240</td>\n",
       "      <td>2024-12-02</td>\n",
       "      <td>[Pavel Kořínek, Jaroslav Foglar]</td>\n",
       "      <td>Kč</td>\n",
       "    </tr>\n",
       "    <tr>\n",
       "      <th>4</th>\n",
       "      <td>499.0</td>\n",
       "      <td>Bajky barda Beedleho - ilustrované vydání</td>\n",
       "      <td>V prodeji</td>\n",
       "      <td>fantasy pro děti</td>\n",
       "      <td>160</td>\n",
       "      <td>2018-10-08</td>\n",
       "      <td>[J. K. Rowlingová]</td>\n",
       "      <td>Kč</td>\n",
       "    </tr>\n",
       "  </tbody>\n",
       "</table>\n",
       "</div>"
      ],
      "text/plain": [
       "    Cena                                        Název knihy Dostupnost  \\\n",
       "0  999.0             Harry Potter a Kámen mudrců - MinaLima  V prodeji   \n",
       "1  449.0                 Harry Potter: Vánoce v Bradavicích  V prodeji   \n",
       "2  299.0                             Vánoce v Šípkové ulici  V prodeji   \n",
       "3  999.0  Rychlé šípy: Původní kresby a scénáře Jaroslav...  V prodeji   \n",
       "4  499.0          Bajky barda Beedleho - ilustrované vydání  V prodeji   \n",
       "\n",
       "                                             Žánr  Počet stran Datum vydání  \\\n",
       "0        dobrodružství pro děti, fantasy pro děti          368   2024-11-04   \n",
       "1               obrázková kniha, fantasy pro děti           48   2024-10-21   \n",
       "2           humor pro děti, pohádka, příběhy dětí           56   2024-10-21   \n",
       "3  dobrodružství pro děti, humor pro děti, komiks          240   2024-12-02   \n",
       "4                                fantasy pro děti          160   2018-10-08   \n",
       "\n",
       "                              Autor Měna  \n",
       "0                [J. K. Rowlingová]   Kč  \n",
       "1                [J. K. Rowlingová]   Kč  \n",
       "2              [Alena Mornštajnová]   Kč  \n",
       "3  [Pavel Kořínek, Jaroslav Foglar]   Kč  \n",
       "4                [J. K. Rowlingová]   Kč  "
      ]
     },
     "execution_count": 100,
     "metadata": {},
     "output_type": "execute_result"
    }
   ],
   "source": [
    "df.head()"
   ]
  },
  {
   "cell_type": "code",
   "execution_count": 90,
   "metadata": {},
   "outputs": [
    {
     "data": {
      "text/plain": [
       "2"
      ]
     },
     "execution_count": 90,
     "metadata": {},
     "output_type": "execute_result"
    }
   ],
   "source": [
    "text = 'Pavel Kořínek, Jaroslav Foglar'\n",
    "list_autoru = text.split(',')\n",
    "len(list_autoru)"
   ]
  },
  {
   "cell_type": "markdown",
   "metadata": {},
   "source": [
    "#### Do nového sloupce dostat informaci o počtu autorů daného díla"
   ]
  },
  {
   "cell_type": "markdown",
   "metadata": {},
   "source": []
  },
  {
   "cell_type": "code",
   "execution_count": 105,
   "metadata": {},
   "outputs": [],
   "source": [
    "df['Počet autorů'] = df['Autor'].apply(len)  # autoři jsou v hranatých závorkách jako listové hodnoty a tak musím použít funkci apply a ne stringové funkce jako výše "
   ]
  },
  {
   "cell_type": "code",
   "execution_count": 106,
   "metadata": {},
   "outputs": [
    {
     "data": {
      "text/plain": [
       "0     1\n",
       "1     1\n",
       "2     1\n",
       "3     2\n",
       "4     1\n",
       "5     1\n",
       "6     1\n",
       "7     3\n",
       "8     1\n",
       "9     1\n",
       "10    1\n",
       "11    3\n",
       "12    2\n",
       "13    2\n",
       "14    1\n",
       "15    1\n",
       "16    1\n",
       "17    1\n",
       "18    1\n",
       "19    1\n",
       "20    4\n",
       "21    3\n",
       "22    3\n",
       "23    1\n",
       "24    1\n",
       "Name: Počet autorů, dtype: int64"
      ]
     },
     "execution_count": 106,
     "metadata": {},
     "output_type": "execute_result"
    }
   ],
   "source": [
    "df['Počet autorů']"
   ]
  },
  {
   "cell_type": "code",
   "execution_count": 103,
   "metadata": {},
   "outputs": [
    {
     "data": {
      "text/html": [
       "<div>\n",
       "<style scoped>\n",
       "    .dataframe tbody tr th:only-of-type {\n",
       "        vertical-align: middle;\n",
       "    }\n",
       "\n",
       "    .dataframe tbody tr th {\n",
       "        vertical-align: top;\n",
       "    }\n",
       "\n",
       "    .dataframe thead th {\n",
       "        text-align: right;\n",
       "    }\n",
       "</style>\n",
       "<table border=\"1\" class=\"dataframe\">\n",
       "  <thead>\n",
       "    <tr style=\"text-align: right;\">\n",
       "      <th></th>\n",
       "      <th>Cena</th>\n",
       "      <th>Název knihy</th>\n",
       "      <th>Dostupnost</th>\n",
       "      <th>Žánr</th>\n",
       "      <th>Počet stran</th>\n",
       "      <th>Datum vydání</th>\n",
       "      <th>Autor</th>\n",
       "      <th>Měna</th>\n",
       "      <th>Počet autorů</th>\n",
       "    </tr>\n",
       "  </thead>\n",
       "  <tbody>\n",
       "    <tr>\n",
       "      <th>0</th>\n",
       "      <td>999.0</td>\n",
       "      <td>Harry Potter a Kámen mudrců - MinaLima</td>\n",
       "      <td>V prodeji</td>\n",
       "      <td>dobrodružství pro děti, fantasy pro děti</td>\n",
       "      <td>368</td>\n",
       "      <td>2024-11-04</td>\n",
       "      <td>[J. K. Rowlingová]</td>\n",
       "      <td>Kč</td>\n",
       "      <td>1</td>\n",
       "    </tr>\n",
       "    <tr>\n",
       "      <th>1</th>\n",
       "      <td>449.0</td>\n",
       "      <td>Harry Potter: Vánoce v Bradavicích</td>\n",
       "      <td>V prodeji</td>\n",
       "      <td>obrázková kniha, fantasy pro děti</td>\n",
       "      <td>48</td>\n",
       "      <td>2024-10-21</td>\n",
       "      <td>[J. K. Rowlingová]</td>\n",
       "      <td>Kč</td>\n",
       "      <td>1</td>\n",
       "    </tr>\n",
       "    <tr>\n",
       "      <th>2</th>\n",
       "      <td>299.0</td>\n",
       "      <td>Vánoce v Šípkové ulici</td>\n",
       "      <td>V prodeji</td>\n",
       "      <td>humor pro děti, pohádka, příběhy dětí</td>\n",
       "      <td>56</td>\n",
       "      <td>2024-10-21</td>\n",
       "      <td>[Alena Mornštajnová]</td>\n",
       "      <td>Kč</td>\n",
       "      <td>1</td>\n",
       "    </tr>\n",
       "    <tr>\n",
       "      <th>3</th>\n",
       "      <td>999.0</td>\n",
       "      <td>Rychlé šípy: Původní kresby a scénáře Jaroslav...</td>\n",
       "      <td>V prodeji</td>\n",
       "      <td>dobrodružství pro děti, humor pro děti, komiks</td>\n",
       "      <td>240</td>\n",
       "      <td>2024-12-02</td>\n",
       "      <td>[Pavel Kořínek, Jaroslav Foglar]</td>\n",
       "      <td>Kč</td>\n",
       "      <td>2</td>\n",
       "    </tr>\n",
       "    <tr>\n",
       "      <th>4</th>\n",
       "      <td>499.0</td>\n",
       "      <td>Bajky barda Beedleho - ilustrované vydání</td>\n",
       "      <td>V prodeji</td>\n",
       "      <td>fantasy pro děti</td>\n",
       "      <td>160</td>\n",
       "      <td>2018-10-08</td>\n",
       "      <td>[J. K. Rowlingová]</td>\n",
       "      <td>Kč</td>\n",
       "      <td>1</td>\n",
       "    </tr>\n",
       "  </tbody>\n",
       "</table>\n",
       "</div>"
      ],
      "text/plain": [
       "    Cena                                        Název knihy Dostupnost  \\\n",
       "0  999.0             Harry Potter a Kámen mudrců - MinaLima  V prodeji   \n",
       "1  449.0                 Harry Potter: Vánoce v Bradavicích  V prodeji   \n",
       "2  299.0                             Vánoce v Šípkové ulici  V prodeji   \n",
       "3  999.0  Rychlé šípy: Původní kresby a scénáře Jaroslav...  V prodeji   \n",
       "4  499.0          Bajky barda Beedleho - ilustrované vydání  V prodeji   \n",
       "\n",
       "                                             Žánr  Počet stran Datum vydání  \\\n",
       "0        dobrodružství pro děti, fantasy pro děti          368   2024-11-04   \n",
       "1               obrázková kniha, fantasy pro děti           48   2024-10-21   \n",
       "2           humor pro děti, pohádka, příběhy dětí           56   2024-10-21   \n",
       "3  dobrodružství pro děti, humor pro děti, komiks          240   2024-12-02   \n",
       "4                                fantasy pro děti          160   2018-10-08   \n",
       "\n",
       "                              Autor Měna  Počet autorů  \n",
       "0                [J. K. Rowlingová]   Kč             1  \n",
       "1                [J. K. Rowlingová]   Kč             1  \n",
       "2              [Alena Mornštajnová]   Kč             1  \n",
       "3  [Pavel Kořínek, Jaroslav Foglar]   Kč             2  \n",
       "4                [J. K. Rowlingová]   Kč             1  "
      ]
     },
     "execution_count": 103,
     "metadata": {},
     "output_type": "execute_result"
    }
   ],
   "source": [
    "df.head()"
   ]
  },
  {
   "cell_type": "code",
   "execution_count": 107,
   "metadata": {},
   "outputs": [],
   "source": [
    "df.to_csv('data_knihy_ETL.csv')"
   ]
  },
  {
   "cell_type": "markdown",
   "metadata": {},
   "source": [
    "### Fáze datové analýzy "
   ]
  },
  {
   "cell_type": "code",
   "execution_count": null,
   "metadata": {},
   "outputs": [],
   "source": [
    "import pandas as pd\n",
    "df = df.read_csv('data_knihy_ETL.csv')  # vzor co je třeba udělat první když máme čistý zápisník, my máme data už výše "
   ]
  },
  {
   "cell_type": "code",
   "execution_count": null,
   "metadata": {},
   "outputs": [],
   "source": [
    "# 1. Zjistit průměrnou cenu knih\n",
    "# 2. Zjistit počet dostupných a nedostupných knih\n",
    "# 3. Zjistit knihu s nejmenším počtem stran \n",
    "# 4. Najít knihu s největším počtem autorů \n",
    "# 5. Zjistit, kolik každý autor /kombinace autorů vydal knih\n",
    "# 6. Vytvořit nový sloupec Rok vydání \n",
    "# 7. Zjistit, kolik knih bylo v každém roce vydáno \n",
    "# 8. Vypsat rok, ve kterém se vydalo nejvíce knih"
   ]
  },
  {
   "cell_type": "code",
   "execution_count": 111,
   "metadata": {},
   "outputs": [
    {
     "name": "stdout",
     "output_type": "stream",
     "text": [
      "Průměrná cena knih je 393.0 Kč\n"
     ]
    }
   ],
   "source": [
    "# 1. Zjistit průměrnou cenu knih\n",
    "\n",
    "průměrná_cena_knih = df['Cena'].mean()\n",
    "print(f'Průměrná cena knih je {průměrná_cena_knih} Kč')"
   ]
  },
  {
   "cell_type": "code",
   "execution_count": 127,
   "metadata": {},
   "outputs": [
    {
     "name": "stdout",
     "output_type": "stream",
     "text": [
      "['V prodeji' 'Nedostupné']\n",
      "Počet dostupných knih je 24.\n",
      "Počet nedostupných knih je 1.\n"
     ]
    }
   ],
   "source": [
    "# 2. Zjistit počet dostupných a nedostupných knih\n",
    "print(df['Dostupnost'].unique())\n",
    "\n",
    "počet_dostupných_knih = len(df[df['Dostupnost'] == 'V prodeji'])\n",
    "print(f'Počet dostupných knih je {počet_dostupných_knih}.')\n",
    "\n",
    "počet_nedostupných_knih = len(df[df['Dostupnost'] == 'Nedostupné'])\n",
    "print(f'Počet nedostupných knih je {počet_nedostupných_knih}.')\n",
    "\n"
   ]
  },
  {
   "cell_type": "code",
   "execution_count": null,
   "metadata": {},
   "outputs": [],
   "source": [
    "# Dominikův způsob\n",
    "df['Dostupnost'].value_counts()\n",
    "df.groupby('Dostupnost')['Název knihy'].count()"
   ]
  },
  {
   "cell_type": "code",
   "execution_count": 128,
   "metadata": {},
   "outputs": [
    {
     "name": "stdout",
     "output_type": "stream",
     "text": [
      "Název knihy    Robinson Crusoe - Vojtěch Kubašta\n",
      "Počet stran                                    8\n",
      "Name: 6, dtype: object\n"
     ]
    }
   ],
   "source": [
    "# 3. Zjistit knihu s nejmenším počtem stran \n",
    "kniha_nejmenší_počet_stran = df.loc[df['Počet stran'].idxmin(), ['Název knihy', 'Počet stran']]\n",
    "\n",
    "# Výpis výsledku\n",
    "print(kniha_nejmenší_počet_stran)\n"
   ]
  },
  {
   "cell_type": "code",
   "execution_count": null,
   "metadata": {},
   "outputs": [],
   "source": [
    "#Dominikův způsob\n",
    "min_pocet_stran = df['Počet stran'].min()\n",
    "df.loc[df['Počet stran'] == min_pocet_stran ]\n",
    "\n",
    "# alina způsob\n",
    "df[[\"Název knihy\", \"Počet stran\"]].nsmallest(columns=\"Počet stran\", n=4)"
   ]
  },
  {
   "cell_type": "code",
   "execution_count": 135,
   "metadata": {},
   "outputs": [
    {
     "name": "stdout",
     "output_type": "stream",
     "text": [
      "Název knihy                                 Rychlé šípy - sešit 4\n",
      "Autor           [Nikkarin, Petr Hugo Šlik, Honza Smolík, Jaros...\n",
      "Počet autorů                                                    4\n",
      "Name: 20, dtype: object\n"
     ]
    }
   ],
   "source": [
    "# 4. Najít knihu s největším počtem autorů\n",
    "\n",
    "# Přidání počtu autorů jako číslo (pokud jsou autoři odděleni čárkou v seznamu)\n",
    "df['Počet autorů'] = df['Autor'].apply(lambda x: len(x) if isinstance(x, list) else 0)\n",
    "\n",
    "# Najdeme knihu s největším počtem autorů\n",
    "kniha_max_autorů = df.loc[df['Počet autorů'].idxmax(), ['Název knihy', 'Autor', 'Počet autorů']]\n",
    "\n",
    "# Výpis výsledku\n",
    "print(kniha_max_autorů)\n",
    "\n"
   ]
  },
  {
   "cell_type": "code",
   "execution_count": 149,
   "metadata": {},
   "outputs": [
    {
     "data": {
      "text/html": [
       "<div>\n",
       "<style scoped>\n",
       "    .dataframe tbody tr th:only-of-type {\n",
       "        vertical-align: middle;\n",
       "    }\n",
       "\n",
       "    .dataframe tbody tr th {\n",
       "        vertical-align: top;\n",
       "    }\n",
       "\n",
       "    .dataframe thead th {\n",
       "        text-align: right;\n",
       "    }\n",
       "</style>\n",
       "<table border=\"1\" class=\"dataframe\">\n",
       "  <thead>\n",
       "    <tr style=\"text-align: right;\">\n",
       "      <th></th>\n",
       "      <th>Cena</th>\n",
       "      <th>Název knihy</th>\n",
       "      <th>Dostupnost</th>\n",
       "      <th>Žánr</th>\n",
       "      <th>Počet stran</th>\n",
       "      <th>Datum vydání</th>\n",
       "      <th>Autor</th>\n",
       "      <th>Měna</th>\n",
       "      <th>Počet autorů</th>\n",
       "      <th>Rok vydání</th>\n",
       "    </tr>\n",
       "  </thead>\n",
       "  <tbody>\n",
       "    <tr>\n",
       "      <th>20</th>\n",
       "      <td>299.0</td>\n",
       "      <td>Rychlé šípy - sešit 4</td>\n",
       "      <td>V prodeji</td>\n",
       "      <td>dobrodružství pro děti, komiks</td>\n",
       "      <td>72</td>\n",
       "      <td>2023-04-17</td>\n",
       "      <td>[Nikkarin, Petr Hugo Šlik, Honza Smolík, Jaros...</td>\n",
       "      <td>Kč</td>\n",
       "      <td>4</td>\n",
       "      <td>2023</td>\n",
       "    </tr>\n",
       "  </tbody>\n",
       "</table>\n",
       "</div>"
      ],
      "text/plain": [
       "     Cena            Název knihy Dostupnost                            Žánr  \\\n",
       "20  299.0  Rychlé šípy - sešit 4  V prodeji  dobrodružství pro děti, komiks   \n",
       "\n",
       "    Počet stran Datum vydání  \\\n",
       "20           72   2023-04-17   \n",
       "\n",
       "                                                Autor Měna  Počet autorů  \\\n",
       "20  [Nikkarin, Petr Hugo Šlik, Honza Smolík, Jaros...   Kč             4   \n",
       "\n",
       "    Rok vydání  \n",
       "20        2023  "
      ]
     },
     "execution_count": 149,
     "metadata": {},
     "output_type": "execute_result"
    }
   ],
   "source": [
    "# Dominikův způsob když nemáme autory v hrananých závorkách - já je bohužel mám tak s tím musím pracovat jinak \n",
    "# Dodatek naštěstí zde nepracujeme s tím listem autorů ale s tím počtem autorů takže nemusím poučít ten příklad můj s tou apply funkcí přes tu lambdu\n",
    "\n",
    "df.loc[df['Počet autorů'] == df['Počet autorů'].max()]\n",
    "df.nlargest(columns='Počet autorů', n=1)\n",
    "df.sort_values(by='Počet autorů', ascending=False).head(1)"
   ]
  },
  {
   "cell_type": "code",
   "execution_count": null,
   "metadata": {},
   "outputs": [],
   "source": [
    "# 5. Zjistit, kolik každý autor /kombinace autorů vydal knih\n",
    "\n",
    "# Spočítáme počet knih pro každého autora nebo kombinaci autorů\n",
    "počet_knih_autorů = df['Autor'].value_counts()           # dominik na to napsoval ještě .resert_index(name='Počet knih')    a díky tomu to měl v dataframe\n",
    "\n",
    "# Výpis výsledků\n",
    "print(počet_knih_autorů)"
   ]
  },
  {
   "cell_type": "code",
   "execution_count": 137,
   "metadata": {},
   "outputs": [
    {
     "name": "stdout",
     "output_type": "stream",
     "text": [
      "                                         Název knihy Datum vydání  Rok vydání\n",
      "0             Harry Potter a Kámen mudrců - MinaLima   2024-11-04      2024.0\n",
      "1                 Harry Potter: Vánoce v Bradavicích   2024-10-21      2024.0\n",
      "2                             Vánoce v Šípkové ulici   2024-10-21      2024.0\n",
      "3  Rychlé šípy: Původní kresby a scénáře Jaroslav...   2024-12-02      2024.0\n",
      "4          Bajky barda Beedleho - ilustrované vydání   2018-10-08      2018.0\n"
     ]
    }
   ],
   "source": [
    "# 6. Vytvořit nový sloupec Rok vydání \n",
    "\n",
    "# Vytvoříme nový sloupec 'Rok vydání' extrahováním roku z 'Datum vydání'\n",
    "df['Rok vydání'] = df['Datum vydání'].dt.year\n",
    "\n",
    "# Výpis prvních 5 řádků pro kontrolu\n",
    "print(df[['Název knihy', 'Datum vydání', 'Rok vydání']].head())\n"
   ]
  },
  {
   "cell_type": "markdown",
   "metadata": {},
   "source": [
    "####Dominik řešil s Denisem když má ten rok vydání 2024.0 tak jak to přetypujeme"
   ]
  },
  {
   "cell_type": "code",
   "execution_count": null,
   "metadata": {},
   "outputs": [],
   "source": [
    "# přetypovat datum je tam nulová hodnota \n",
    "df['Rok vydání'] = df['Datum vydání'].dt.year\n",
    "radek_ke_smazani = df.loc[df['Rok vydání'].isnull() ].index\n",
    "df.drop(index=radek_ke_smazani, inplace=True)\n"
   ]
  },
  {
   "cell_type": "code",
   "execution_count": 146,
   "metadata": {},
   "outputs": [],
   "source": [
    "df['Rok vydání'] = df['Rok vydání'].astype(int)"
   ]
  },
  {
   "cell_type": "markdown",
   "metadata": {},
   "source": [
    "#####.to_numeric()umožňuje přeskakovat hodnoty, které nelze přetypovat díky parametru errors"
   ]
  },
  {
   "cell_type": "code",
   "execution_count": 151,
   "metadata": {},
   "outputs": [],
   "source": [
    "df['Rok vydání'] = pd.to_numeric(df['Rok vydání'], errors='coerce', downcast='integer').astype('Int64')"
   ]
  },
  {
   "cell_type": "code",
   "execution_count": 147,
   "metadata": {},
   "outputs": [
    {
     "name": "stdout",
     "output_type": "stream",
     "text": [
      "Rok vydání\n",
      "2018    2\n",
      "2019    1\n",
      "2021    2\n",
      "2022    6\n",
      "2023    8\n",
      "2024    5\n",
      "Name: count, dtype: int64\n"
     ]
    }
   ],
   "source": [
    "# 7. Zjistit, kolik knih bylo v každém roce vydáno \n",
    "# Spočítáme počet knih vydaných v každém roce\n",
    "pocet_knih_roky = df['Rok vydání'].value_counts().sort_index()\n",
    "\n",
    "# Výpis výsledků\n",
    "print(pocet_knih_roky)"
   ]
  },
  {
   "cell_type": "code",
   "execution_count": 139,
   "metadata": {},
   "outputs": [],
   "source": [
    "# 8. Najít rok, ve kterém se vydalo nejvíce knih\n",
    "pocet_knih_roky.nlargest(n=1, columns='Počet knih')\n",
    "pocet_knih_roky.loc[ pocet_knih_roky['Počet knih'] == pocet_knih_roky['Počet knih'].max() ]"
   ]
  },
  {
   "cell_type": "code",
   "execution_count": 152,
   "metadata": {},
   "outputs": [
    {
     "data": {
      "text/html": [
       "<div>\n",
       "<style scoped>\n",
       "    .dataframe tbody tr th:only-of-type {\n",
       "        vertical-align: middle;\n",
       "    }\n",
       "\n",
       "    .dataframe tbody tr th {\n",
       "        vertical-align: top;\n",
       "    }\n",
       "\n",
       "    .dataframe thead th {\n",
       "        text-align: right;\n",
       "    }\n",
       "</style>\n",
       "<table border=\"1\" class=\"dataframe\">\n",
       "  <thead>\n",
       "    <tr style=\"text-align: right;\">\n",
       "      <th></th>\n",
       "      <th>Cena</th>\n",
       "      <th>Název knihy</th>\n",
       "      <th>Dostupnost</th>\n",
       "      <th>Žánr</th>\n",
       "      <th>Počet stran</th>\n",
       "      <th>Datum vydání</th>\n",
       "      <th>Autor</th>\n",
       "      <th>Měna</th>\n",
       "      <th>Počet autorů</th>\n",
       "      <th>Rok vydání</th>\n",
       "    </tr>\n",
       "  </thead>\n",
       "  <tbody>\n",
       "    <tr>\n",
       "      <th>0</th>\n",
       "      <td>999.0</td>\n",
       "      <td>Harry Potter a Kámen mudrců - MinaLima</td>\n",
       "      <td>V prodeji</td>\n",
       "      <td>dobrodružství pro děti, fantasy pro děti</td>\n",
       "      <td>368</td>\n",
       "      <td>2024-11-04</td>\n",
       "      <td>[J. K. Rowlingová]</td>\n",
       "      <td>Kč</td>\n",
       "      <td>1</td>\n",
       "      <td>2024</td>\n",
       "    </tr>\n",
       "    <tr>\n",
       "      <th>1</th>\n",
       "      <td>449.0</td>\n",
       "      <td>Harry Potter: Vánoce v Bradavicích</td>\n",
       "      <td>V prodeji</td>\n",
       "      <td>obrázková kniha, fantasy pro děti</td>\n",
       "      <td>48</td>\n",
       "      <td>2024-10-21</td>\n",
       "      <td>[J. K. Rowlingová]</td>\n",
       "      <td>Kč</td>\n",
       "      <td>1</td>\n",
       "      <td>2024</td>\n",
       "    </tr>\n",
       "    <tr>\n",
       "      <th>2</th>\n",
       "      <td>299.0</td>\n",
       "      <td>Vánoce v Šípkové ulici</td>\n",
       "      <td>V prodeji</td>\n",
       "      <td>humor pro děti, pohádka, příběhy dětí</td>\n",
       "      <td>56</td>\n",
       "      <td>2024-10-21</td>\n",
       "      <td>[Alena Mornštajnová]</td>\n",
       "      <td>Kč</td>\n",
       "      <td>1</td>\n",
       "      <td>2024</td>\n",
       "    </tr>\n",
       "    <tr>\n",
       "      <th>3</th>\n",
       "      <td>999.0</td>\n",
       "      <td>Rychlé šípy: Původní kresby a scénáře Jaroslav...</td>\n",
       "      <td>V prodeji</td>\n",
       "      <td>dobrodružství pro děti, humor pro děti, komiks</td>\n",
       "      <td>240</td>\n",
       "      <td>2024-12-02</td>\n",
       "      <td>[Pavel Kořínek, Jaroslav Foglar]</td>\n",
       "      <td>Kč</td>\n",
       "      <td>2</td>\n",
       "      <td>2024</td>\n",
       "    </tr>\n",
       "    <tr>\n",
       "      <th>4</th>\n",
       "      <td>499.0</td>\n",
       "      <td>Bajky barda Beedleho - ilustrované vydání</td>\n",
       "      <td>V prodeji</td>\n",
       "      <td>fantasy pro děti</td>\n",
       "      <td>160</td>\n",
       "      <td>2018-10-08</td>\n",
       "      <td>[J. K. Rowlingová]</td>\n",
       "      <td>Kč</td>\n",
       "      <td>1</td>\n",
       "      <td>2018</td>\n",
       "    </tr>\n",
       "  </tbody>\n",
       "</table>\n",
       "</div>"
      ],
      "text/plain": [
       "    Cena                                        Název knihy Dostupnost  \\\n",
       "0  999.0             Harry Potter a Kámen mudrců - MinaLima  V prodeji   \n",
       "1  449.0                 Harry Potter: Vánoce v Bradavicích  V prodeji   \n",
       "2  299.0                             Vánoce v Šípkové ulici  V prodeji   \n",
       "3  999.0  Rychlé šípy: Původní kresby a scénáře Jaroslav...  V prodeji   \n",
       "4  499.0          Bajky barda Beedleho - ilustrované vydání  V prodeji   \n",
       "\n",
       "                                             Žánr  Počet stran Datum vydání  \\\n",
       "0        dobrodružství pro děti, fantasy pro děti          368   2024-11-04   \n",
       "1               obrázková kniha, fantasy pro děti           48   2024-10-21   \n",
       "2           humor pro děti, pohádka, příběhy dětí           56   2024-10-21   \n",
       "3  dobrodružství pro děti, humor pro děti, komiks          240   2024-12-02   \n",
       "4                                fantasy pro děti          160   2018-10-08   \n",
       "\n",
       "                              Autor Měna  Počet autorů  Rok vydání  \n",
       "0                [J. K. Rowlingová]   Kč             1        2024  \n",
       "1                [J. K. Rowlingová]   Kč             1        2024  \n",
       "2              [Alena Mornštajnová]   Kč             1        2024  \n",
       "3  [Pavel Kořínek, Jaroslav Foglar]   Kč             2        2024  \n",
       "4                [J. K. Rowlingová]   Kč             1        2018  "
      ]
     },
     "execution_count": 152,
     "metadata": {},
     "output_type": "execute_result"
    }
   ],
   "source": [
    "df.head()"
   ]
  },
  {
   "cell_type": "code",
   "execution_count": null,
   "metadata": {},
   "outputs": [],
   "source": [
    "df = df[['Autor', 'Název knihy', 'Dostupnost', 'Žánr', 'Datum vydání', 'Cena', 'Měna', 'Počet stran', 'Počet autorů', 'Rok vydání']]\n",
    "df.to_excel('final_data.xlsx')"
   ]
  },
  {
   "cell_type": "code",
   "execution_count": null,
   "metadata": {},
   "outputs": [],
   "source": []
  }
 ],
 "metadata": {
  "kernelspec": {
   "display_name": "base",
   "language": "python",
   "name": "python3"
  },
  "language_info": {
   "codemirror_mode": {
    "name": "ipython",
    "version": 3
   },
   "file_extension": ".py",
   "mimetype": "text/x-python",
   "name": "python",
   "nbconvert_exporter": "python",
   "pygments_lexer": "ipython3",
   "version": "3.12.7"
  }
 },
 "nbformat": 4,
 "nbformat_minor": 2
}
