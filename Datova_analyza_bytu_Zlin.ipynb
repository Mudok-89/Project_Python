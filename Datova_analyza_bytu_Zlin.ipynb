{
 "cells": [
  {
   "cell_type": "markdown",
   "id": "5f1453e00ba07110",
   "metadata": {},
   "source": [
    "### Závěrečný projet - modul Python"
   ]
  },
  {
   "cell_type": "markdown",
   "id": "80f51208356c3824",
   "metadata": {},
   "source": [
    "V tomto projektu budete analyzovat data ze stránky `www.sreality.cz`. Budete tedy získávat aktuální nabídku bytů ve Zlíně.\n",
    "Projekt se dělí na 2 části:\n",
    "1. WebScraping - pomocí knihovny `BeautifulSoup` získejte všechny aktuální inzerce bytů v daném městě. \n",
    "- Získáte **tyto** informace: `URL odkaz bytu, rozměry bytu, kompozice bytu, cena bytu, lokace bytu (Ulice+město)`\n",
    "2. Datová analýza - ETL proces\n",
    "- V první fázi prověďte processing dat tak, aby obsahovala příslušné datové typy, nenulové hodnoty atp. Ulice i město bude v samostatných sloupcích.\n",
    "- Zprocesovaná a vyčištěná data vyexportujte do `.csv` souboru s názvem `{vašeJméno}_zdrojová_data.csv`\n",
    "- Druhou část začněte tak, že si do dataframe nahrajete vámi vyexportovaný `.csv` soubor s vyscrapovanými daty.\n",
    "3. Datová analýza - analýza dat\n",
    "- Ve druhé fázi proveďte analýzu dat a odpovězte na tyto dotazy:\n",
    "- `Jaká je průměrná cena bytů?`\n",
    "- `Jaká je průměrná cena bytů pro každou kompozici (1+1, 2+1, atp.)? Zobrazte i na grafu.`\n",
    "- `Jaká je průměrná velikost bytu pro každou kompozici?`\n",
    "- `Existuje ulice, kde je vyšší koncentrace dražších bytů?`\n",
    "- `Jaký typ kompozice je v daném městě nejčastěji inzerovan? Který to je? Proč myslíte, že tomu tak je?`\n",
    "- `Existují zde inzerce bytů, které stojí více, než 20.000,-? Pokud ano, jsou v této cenové hladině inzerovány i maximálně dvoupokojové byty (2+1/2+kk)?`\n",
    "- `Zjištěte minimální a maximální inzerce pro každou kompozici bytu. Která kompozice má největší rozptyl mezi minimální a maximální inzerovanou cenou?`\n",
    "\n",
    "\n",
    "Dotazy zodpovězte ve vašem pracovním notebooku a výsledný soubor nahrajte na GitHub.\n"
   ]
  },
  {
   "cell_type": "markdown",
   "id": "59dc9d3b2384bd4e",
   "metadata": {},
   "source": [
    "### WebScraping"
   ]
  },
  {
   "cell_type": "code",
   "execution_count": null,
   "id": "initial_id",
   "metadata": {
    "collapsed": true
   },
   "outputs": [],
   "source": [
    "from bs4 import BeautifulSoup\n",
    "import requests\n",
    "\n",
    "strana = 1\n",
    "seznam_bytu = [] \n",
    "\n",
    "while True:\n",
    "    mesto = 'zlin'\n",
    "    data = requests.get(f'https://www.sreality.cz/hledani/pronajem/byty/{mesto}?strana={strana}').text\n",
    "    soup = BeautifulSoup(data, 'html.parser')\n",
    "\n",
    "    \"\"\"\n",
    "    ------------------------\n",
    "    Zde pište svůj kód \n",
    "    ------------------------\n",
    "    \"\"\"\n",
    "    # Najdeme si všechny inzerce\n",
    "    \n",
    "    \n",
    "    list_inzeratu = soup.findAll('li', 'MuiGrid-root MuiGrid-item css-l1328q')\n",
    "    list_inzeratu_filtered = [\n",
    "        item for item in list_inzeratu\n",
    "        if not (\n",
    "            \"tip\" in item.get(\"id\", \"\").lower()  # Odstraníme položky s \"tip\" v ID\n",
    "            or \"adresar\" in item.find(\"a\", href=True)[\"href\"]  # Odstraníme makléřské reklamy\n",
    "            or \"TIP:\" in item.get_text()  # Odstraníme text obsahující \"TIP:\"\n",
    "        )\n",
    "    ]\n",
    "\n",
    "    \n",
    "    for byt in list_inzeratu_filtered:\n",
    "            odkaz_tag = byt.find('a', href=True)\n",
    "            odkaz = 'https://www.sreality.cz' + odkaz_tag['href'] if odkaz_tag else None  # odkaz na byt\n",
    "            \n",
    "            cena_tag = byt.find('p', class_='MuiTypography-root MuiTypography-body1 css-1ndcg2e')  # cena bytu \n",
    "            cena = cena_tag.get_text(strip=True) if cena_tag else \"Neuvedeno\"\n",
    "            \n",
    "            rozmer_tag = byt.find('p', class_='MuiTypography-root MuiTypography-body1 css-13ztabn') # rozměr bytu \n",
    "            if rozmer_tag:\n",
    "               text = rozmer_tag.get_text(strip=True)\n",
    "               rozmery = \" \".join(text.split()[3:])  # Odstraní první dvě slova\n",
    "            else:\n",
    "                rozmery = \"Neuvedeno\"\n",
    "                \n",
    "            dispozice = byt.find('p', class_='MuiTypography-root MuiTypography-body1 css-13ztabn') # rozměr bytu \n",
    "            if rozmer_tag:\n",
    "               text = dispozice.get_text(strip=True)\n",
    "               dispozice = \" \".join(text.split()[2:3])  # Odstraní první dvě slova\n",
    "            else:\n",
    "                dispozice = \"Neuvedeno\"\n",
    "                \n",
    "            lokace_tag = byt.find_all('p', class_='MuiTypography-root MuiTypography-body1 css-13ztabn')  # Musíš ověřit třídu\n",
    "            lokace = lokace_tag[1].text.strip() if lokace_tag else None\n",
    "            seznam_bytu.append(\n",
    "               {\n",
    "                 'url': odkaz,\n",
    "                 'cena': cena,\n",
    "                 'rozmer': rozmery,\n",
    "                 'dispozice': dispozice,\n",
    "                 'lokace': lokace\n",
    "                }\n",
    "            )\n",
    "        \n",
    "\n",
    "    \"\"\"\n",
    "    ------------------------------------------------------------------------------------------------\n",
    "    Tohle ponechte pod vaším kódem - kontroluje se, zda na stránce existuje tlačítko Další stránky. Pokud ne, program končí.\n",
    "    ------------------------------------------------------------------------------------------------\n",
    "    \"\"\"\n",
    "    \n",
    "    button = soup.find('button', 'MuiButtonBase-root MuiButton-root MuiButton-outlined MuiButton-outlinedInherit MuiButton-sizeMedium MuiButton-outlinedSizeMedium MuiButton-colorInherit MuiButton-root MuiButton-outlined MuiButton-outlinedInherit MuiButton-sizeMedium MuiButton-outlinedSizeMedium MuiButton-colorInherit css-lp5ywq').text\n",
    "     \n",
    "    if button != 'Další stránka':\n",
    "        print('Již zde není žádná další strana. Končím')\n",
    "        break\n",
    "\n",
    "    strana += 1\n",
    "\n",
    "    print(f'Scrapuju stránku č. {strana}')"
   ]
  },
  {
   "cell_type": "code",
   "execution_count": 42,
   "id": "0aea8a88",
   "metadata": {},
   "outputs": [
    {
     "data": {
      "text/plain": [
       "[]"
      ]
     },
     "execution_count": 42,
     "metadata": {},
     "output_type": "execute_result"
    }
   ],
   "source": [
    "seznam_bytu"
   ]
  },
  {
   "cell_type": "code",
   "execution_count": 40,
   "id": "5d0ac163",
   "metadata": {},
   "outputs": [],
   "source": [
    "import pandas as pd\n",
    "\n",
    "df = pd.DataFrame(seznam_bytu)\n"
   ]
  },
  {
   "cell_type": "code",
   "execution_count": 41,
   "id": "41a3d3d3",
   "metadata": {},
   "outputs": [],
   "source": [
    "df.to_csv('byty_zlin_kontrola.csv')"
   ]
  },
  {
   "cell_type": "code",
   "execution_count": 35,
   "id": "85cc3f66",
   "metadata": {},
   "outputs": [],
   "source": [
    "# data mimo while cyklus, abych mohla spouštět kód  samostatně \n",
    "list_inzeratu = soup.findAll('li', 'MuiGrid-root MuiGrid-item css-l1328q')\n",
    "list_inzeratu_filtered = [\n",
    "    item for item in list_inzeratu\n",
    "    if not (\n",
    "        \"tip\" in item.get(\"id\", \"\").lower()  # Odstraníme položky s \"tip\" v ID\n",
    "        or \"adresar\" in item.find(\"a\", href=True)[\"href\"]  # Odstraníme makléřské reklamy\n",
    "        or \"TIP:\" in item.get_text()  # Odstraníme text obsahující \"TIP:\"\n",
    "    )\n",
    "]\n",
    "\n",
    "seznam_bytu = [] \n",
    "for byt in list_inzeratu_filtered:\n",
    "        odkaz_tag = byt.find('a', href=True)\n",
    "        odkaz = 'https://www.sreality.cz' + odkaz_tag['href'] if odkaz_tag else None  # odkaz na byt\n",
    "        \n",
    "        cena_tag = byt.find('p', class_='MuiTypography-root MuiTypography-body1 css-1ndcg2e')  # cena bytu \n",
    "        cena = cena_tag.get_text(strip=True) if cena_tag else \"Neuvedeno\"\n",
    "        \n",
    "        rozmer_tag = byt.find('p', class_='MuiTypography-root MuiTypography-body1 css-13ztabn') # rozměr bytu \n",
    "        if rozmer_tag:\n",
    "           text = rozmer_tag.get_text(strip=True)\n",
    "           rozmery = \" \".join(text.split()[3:])  # Odstraní první dvě slova\n",
    "        else:\n",
    "            rozmery = \"Neuvedeno\"\n",
    "            \n",
    "        dispozice = byt.find('p', class_='MuiTypography-root MuiTypography-body1 css-13ztabn') # rozměr bytu \n",
    "        if rozmer_tag:\n",
    "           text = dispozice.get_text(strip=True)\n",
    "           dispozice = \" \".join(text.split()[2:3])  # Odstraní první dvě slova\n",
    "        else:\n",
    "            dispozice = \"Neuvedeno\"\n",
    "            \n",
    "        lokace_tag = byt.find_all('p', class_='MuiTypography-root MuiTypography-body1 css-13ztabn')  # Musíš ověřit třídu\n",
    "        lokace = lokace_tag[1].text.strip() if lokace_tag else None\n",
    "        seznam_bytu.append(\n",
    "        {\n",
    "            'url': odkaz,\n",
    "            'cena': cena,\n",
    "            'rozmer': rozmery,\n",
    "            'dispozice': dispozice,\n",
    "            'lokace': lokace\n",
    "        })\n",
    "        print(seznam_bytu)"
   ]
  },
  {
   "cell_type": "markdown",
   "id": "f54576ab629fed11",
   "metadata": {},
   "source": [
    "### DATA PROCESSING"
   ]
  },
  {
   "cell_type": "code",
   "execution_count": 45,
   "id": "4a2f14acc4baf746",
   "metadata": {},
   "outputs": [],
   "source": [
    "import pandas as pd\n",
    "\n",
    "df = pd.read_csv('byty_zlin.csv')"
   ]
  },
  {
   "cell_type": "code",
   "execution_count": null,
   "id": "420a9333",
   "metadata": {},
   "outputs": [],
   "source": [
    "df.head()"
   ]
  },
  {
   "cell_type": "code",
   "execution_count": null,
   "id": "d449cb8d",
   "metadata": {},
   "outputs": [],
   "source": [
    "df.info()"
   ]
  },
  {
   "cell_type": "markdown",
   "id": "0a513bda",
   "metadata": {},
   "source": [
    "### Čištění a přetypování dat"
   ]
  },
  {
   "cell_type": "code",
   "execution_count": null,
   "id": "b056da6e",
   "metadata": {},
   "outputs": [],
   "source": [
    "#chci přetypovat cenu nejdřív ji musím očistit \n",
    "# Čištění ceny - odstranění měny, pevné mezery a textu \"měsíc\"\n",
    "df['cena'] = df['cena'].str.replace('Kč/měsíc', '').str.replace(' ','').str.replace(r'\\xa0', ' ', regex=True).str.replace(r'\\s+', '', regex=True)\n",
    "df['cena'] = pd.to_numeric(df['cena'], errors='coerce')\n",
    "df['cena']   # cena se změnila na float64\n",
    "\n"
   ]
  },
  {
   "cell_type": "code",
   "execution_count": null,
   "id": "fc1cdd5c",
   "metadata": {},
   "outputs": [],
   "source": [
    "df.info()  # cena se z měnila na float64"
   ]
  },
  {
   "cell_type": "code",
   "execution_count": 55,
   "id": "855ba130",
   "metadata": {},
   "outputs": [],
   "source": [
    "df['cena'] = df['cena'].fillna(0)   # Nulové hodnoty budou 0"
   ]
  },
  {
   "cell_type": "code",
   "execution_count": null,
   "id": "f0f9fc2b",
   "metadata": {},
   "outputs": [],
   "source": [
    "df['cena'] = df['cena'].astype(int)  # přetypovávám cenu z float na integer\n",
    "df['cena'] "
   ]
  },
  {
   "cell_type": "markdown",
   "id": "23587265",
   "metadata": {},
   "source": [
    "### Čištění a úprava proměnné lokace"
   ]
  },
  {
   "cell_type": "code",
   "execution_count": null,
   "id": "ac8b9858",
   "metadata": {},
   "outputs": [],
   "source": [
    "print(df['lokace'].unique())  # Zjistím unikátní hodnoty ve sloupci lokace   "
   ]
  },
  {
   "cell_type": "code",
   "execution_count": null,
   "id": "3ecd8c0b",
   "metadata": {},
   "outputs": [],
   "source": [
    "df['ulice'] = df['lokace'].str.split(',').str[0]  # Vezmeme jen část před čárkou (ulice)\n",
    "df['ulice']"
   ]
  },
  {
   "cell_type": "code",
   "execution_count": null,
   "id": "d4762466",
   "metadata": {},
   "outputs": [],
   "source": [
    "print(df['rozmer'].unique())  # Zjistím, jaké hodnoty obsahuje sloupec rozměr"
   ]
  },
  {
   "cell_type": "markdown",
   "id": "3c7c91c4",
   "metadata": {},
   "source": [
    "### DATOVÁ ANALÝZA\n"
   ]
  },
  {
   "cell_type": "markdown",
   "id": "b462ecfb",
   "metadata": {},
   "source": [
    "###  1 průměrná cena bytů "
   ]
  },
  {
   "cell_type": "code",
   "execution_count": 57,
   "id": "a8d9cb4b",
   "metadata": {},
   "outputs": [
    {
     "name": "stdout",
     "output_type": "stream",
     "text": [
      "Průměrná cena bytů je 13591.641379310346 Kč.\n"
     ]
    }
   ],
   "source": [
    "\n",
    "prumerna_cena_bytu = df['cena'].mean() \n",
    "print(f'Průměrná cena bytů je {prumerna_cena_bytu} Kč.')"
   ]
  },
  {
   "cell_type": "markdown",
   "id": "374ebd7c",
   "metadata": {},
   "source": [
    "### 2 průměrná cena bytů pro každou dispozici 1+1, 2+1 atp a  zobrazte na grafu "
   ]
  },
  {
   "cell_type": "code",
   "execution_count": null,
   "id": "f4f78975",
   "metadata": {},
   "outputs": [],
   "source": [
    "df['dispozice'] = df['dispozice'].str.strip()  # Odstraním mezery na začátku a na konci\n",
    "print(df['dispozice'].unique())    # Zjistím, jaké hodnoty obsahuje sloupec dispozice\n",
    "df_prumerne_ceny = df.groupby('dispozice')['cena'].mean().reset_index()\n",
    "df_prumerne_ceny = df_prumerne_ceny.assign(cena=df_prumerne_ceny['cena'].round(2)).sort_values(by='cena', ascending=False)\n",
    "df_prumerne_ceny"
   ]
  },
  {
   "cell_type": "code",
   "execution_count": 95,
   "id": "092c2131",
   "metadata": {},
   "outputs": [],
   "source": [
    "df_prumerne_ceny.to_excel(\"č.2_prumerne_ceny_dispozice.xlsx\", index=False, engine='openpyxl')"
   ]
  },
  {
   "cell_type": "code",
   "execution_count": 60,
   "id": "4a4b01dc",
   "metadata": {},
   "outputs": [
    {
     "data": {
      "image/png": "[encoded data removed]",
      "text/plain": [
       "<Figure size 1000x500 with 1 Axes>"
      ]
     },
     "metadata": {},
     "output_type": "display_data"
    }
   ],
   "source": [
    "import matplotlib.pyplot as plt\n",
    "\n",
    "plt.figure(figsize=(10, 5))\n",
    "plt.bar(df_prumerne_ceny['dispozice'], df_prumerne_ceny['cena'], color='orange')\n",
    "\n",
    "plt.xlabel('Dispozice bytu')\n",
    "plt.ylabel('Průměrná cena (Kč)')\n",
    "plt.title('Průměrná cena bytů podle dispozice')\n",
    "plt.xticks(rotation=45)  # Otočení popisků na ose X pro lepší čitelnost\n",
    "plt.grid(axis='y', linestyle='--', alpha=0.7)\n",
    "\n",
    "plt.show()"
   ]
  },
  {
   "cell_type": "code",
   "execution_count": null,
   "id": "f6db3d85",
   "metadata": {},
   "outputs": [],
   "source": [
    "pip install xlsxwriter\n"
   ]
  },
  {
   "cell_type": "code",
   "execution_count": 99,
   "id": "f4234d71",
   "metadata": {},
   "outputs": [],
   "source": [
    "# Vytvoření Excelu s grafem\n",
    "\n",
    "with pd.ExcelWriter(\"č.2graf_ceny.xlsx\", engine=\"xlsxwriter\") as writer:\n",
    "    df_prumerne_ceny.to_excel(writer, sheet_name=\"Data\", index=False)\n",
    "\n",
    "    workbook = writer.book\n",
    "    worksheet = writer.sheets[\"Data\"]\n",
    "\n",
    "    # Vložení grafu\n",
    "    chart = workbook.add_chart({\"type\": \"column\"})\n",
    "    chart.add_series({\n",
    "        \"categories\": [\"Data\", 1, 0, len(df_prumerne_ceny), 0],  # Sloupec dispozice\n",
    "        \"values\": [\"Data\", 1, 1, len(df_prumerne_ceny), 1],  # Sloupec cena\n",
    "        \"name\": \"Průměrná cena bytu\"\n",
    "    })\n",
    "    \n",
    "    worksheet.insert_chart(\"E2\", chart)  # Umístění grafu v Excelu"
   ]
  },
  {
   "cell_type": "markdown",
   "id": "85c25dd4",
   "metadata": {},
   "source": [
    "### 3 Jaká je průměrná velikost bytu pro každou kompozici?"
   ]
  },
  {
   "cell_type": "code",
   "execution_count": 62,
   "id": "ed51bda0",
   "metadata": {},
   "outputs": [],
   "source": [
    "df['rozmer'] = df['rozmer'].str.replace('m²', '', regex=True).str.strip()  # Odstraníme \"m²\" a mezery\n",
    "df['rozmer'] = pd.to_numeric(df['rozmer'], errors='coerce')  # Převedeme na číslo, chybné hodnoty jako NaN\n"
   ]
  },
  {
   "cell_type": "code",
   "execution_count": null,
   "id": "51d9796d",
   "metadata": {},
   "outputs": [],
   "source": [
    "df_prumerne_rozmery = df.groupby('dispozice')['rozmer'].mean().reset_index().round(2)    \n",
    "df_prumerne_rozmery.columns = ['dispozice', 'prumerne_rozmery']\n",
    "df_prumerne_rozmery"
   ]
  },
  {
   "cell_type": "code",
   "execution_count": 101,
   "id": "c5dc8b1b",
   "metadata": {},
   "outputs": [],
   "source": [
    "df_prumerne_rozmery.to_excel(\"č.3_prumerne_rozmery.xlsx\", index=False, engine='openpyxl')"
   ]
  },
  {
   "cell_type": "markdown",
   "id": "429675f8",
   "metadata": {},
   "source": [
    "### 4 Existuje ulice, kde je vyšší koncentrace dražších bytů?"
   ]
  },
  {
   "cell_type": "code",
   "execution_count": null,
   "id": "43bc5d51",
   "metadata": {},
   "outputs": [],
   "source": [
    "df_prumerna_cena_ulice = df.groupby('ulice')['cena'].mean().reset_index().round(2)\n",
    "df_prumerna_cena_ulice.columns = ['ulice', 'prumerna cena']\n",
    "df_prumerna_cena_ulice.head(10)"
   ]
  },
  {
   "cell_type": "code",
   "execution_count": 103,
   "id": "f5dff9a8",
   "metadata": {},
   "outputs": [],
   "source": [
    "df_prumerna_cena_ulice.to_excel(\"č.4_prumerna_cena_ulic.xlsx\", index=False, engine='openpyxl')"
   ]
  },
  {
   "cell_type": "code",
   "execution_count": null,
   "id": "3115adf7",
   "metadata": {},
   "outputs": [],
   "source": [
    "# Seřadíme ulice od nejdražších po nejlevnější:\n",
    "df_prumerna_cena_ulice = df_prumerna_cena_ulice.sort_values(by='prumerna cena', ascending=False)\n",
    "top_10_ulic = df_prumerna_cena_ulice.head(10)\n",
    "top_10_ulic"
   ]
  },
  {
   "cell_type": "code",
   "execution_count": 105,
   "id": "9e7d75d4",
   "metadata": {},
   "outputs": [],
   "source": [
    "top_10_ulic.to_excel(\"č.4b_top_10_ulic.xlsx\", index=False, engine='openpyxl')"
   ]
  },
  {
   "cell_type": "code",
   "execution_count": 70,
   "id": "ca5ca424",
   "metadata": {},
   "outputs": [
    {
     "data": {
      "image/png": "[encoded data removed]",
      "text/plain": [
       "<Figure size 1200x600 with 1 Axes>"
      ]
     },
     "metadata": {},
     "output_type": "display_data"
    }
   ],
   "source": [
    "# Grafické znázornění TOP ulic s nejvyšší průměrnou cenou bytů\n",
    "plt.figure(figsize=(12, 6))\n",
    "plt.barh(top_10_ulic['ulice'], top_10_ulic['prumerna cena'], color='skyblue')\n",
    "plt.xlabel('Průměrná cena (Kč)')\n",
    "plt.ylabel('Ulice')\n",
    "plt.title('Top 10 ulic s nejvyšší průměrnou cenou bytů')\n",
    "plt.gca().invert_yaxis()  # Otočení osy y pro lepší čitelnost\n",
    "plt.show()"
   ]
  },
  {
   "cell_type": "code",
   "execution_count": 106,
   "id": "2f472332",
   "metadata": {},
   "outputs": [],
   "source": [
    "import pandas as pd\n",
    "import matplotlib.pyplot as plt\n",
    "\n",
    "# 1️⃣ Uložení grafu jako obrázek\n",
    "plt.figure(figsize=(12, 6))\n",
    "plt.barh(top_10_ulic['ulice'], top_10_ulic['prumerna cena'], color='skyblue')\n",
    "plt.xlabel('Průměrná cena (Kč)')\n",
    "plt.ylabel('Ulice')\n",
    "plt.title('Top 10 ulic s nejvyšší průměrnou cenou bytů')\n",
    "plt.gca().invert_yaxis()\n",
    "plt.savefig(\"graf_ulice.png\", dpi=300, bbox_inches=\"tight\")  # Uložení grafu\n",
    "plt.close()  # Zavření grafu, aby se neukazoval znovu\n",
    "\n",
    "# 2️⃣ Vytvoření Excel souboru a vložení obrázku\n",
    "with pd.ExcelWriter(\"top_ulice.xlsx\", engine=\"xlsxwriter\") as writer:\n",
    "    top_10_ulic.to_excel(writer, sheet_name=\"Data\", index=False)  # Uložení tabulky\n",
    "    \n",
    "    workbook = writer.book\n",
    "    worksheet = writer.sheets[\"Data\"]\n",
    "    \n",
    "    # Vložení obrázku do Excelu\n",
    "    worksheet.insert_image(\"D2\", \"graf_ulice.png\")  # Umístění v Excelu"
   ]
  },
  {
   "cell_type": "markdown",
   "id": "7eba8364",
   "metadata": {},
   "source": [
    "### 5 Jaký typ kompozice je v daném městě nejčastěji inzerovan? Který to je? Proč myslíte, že tomu tak je?"
   ]
  },
  {
   "cell_type": "code",
   "execution_count": 86,
   "id": "a485ce88",
   "metadata": {},
   "outputs": [],
   "source": [
    "# Spočítáme počet výskytů jednotlivých dispozic\n",
    "df_dispozice_counts = df['dispozice'].value_counts().reset_index()\n",
    "df_dispozice_counts\n",
    "# Přejmenujeme sloupce pro lepší čitelnost\n",
    "df_dispozice_counts.columns = ['dispozice', 'pocet_inzeratu']\n",
    "df_dispozice_counts\n",
    "df_dispozice_counts.to_excel(\"Pocet_vyskytu_kompozice.xlsx\", index=False, engine='openpyxl')"
   ]
  },
  {
   "cell_type": "markdown",
   "id": "f73e1e55",
   "metadata": {},
   "source": [
    "### 6 Existují zde inzerce bytů, které stojí více, než 20.000,-? Pokud ano, jsou v této cenové hladině inzerovány i maximálně dvoupokojové byty (2+1/2+kk)?\n"
   ]
  },
  {
   "cell_type": "code",
   "execution_count": 88,
   "id": "784e3c02",
   "metadata": {},
   "outputs": [
    {
     "data": {
      "text/html": [
       "<div>\n",
       "<style scoped>\n",
       "    .dataframe tbody tr th:only-of-type {\n",
       "        vertical-align: middle;\n",
       "    }\n",
       "\n",
       "    .dataframe tbody tr th {\n",
       "        vertical-align: top;\n",
       "    }\n",
       "\n",
       "    .dataframe thead th {\n",
       "        text-align: right;\n",
       "    }\n",
       "</style>\n",
       "<table border=\"1\" class=\"dataframe\">\n",
       "  <thead>\n",
       "    <tr style=\"text-align: right;\">\n",
       "      <th></th>\n",
       "      <th>Unnamed: 0</th>\n",
       "      <th>url</th>\n",
       "      <th>cena</th>\n",
       "      <th>rozmer</th>\n",
       "      <th>dispozice</th>\n",
       "      <th>lokace</th>\n",
       "      <th>ulice</th>\n",
       "    </tr>\n",
       "  </thead>\n",
       "  <tbody>\n",
       "    <tr>\n",
       "      <th>7</th>\n",
       "      <td>7</td>\n",
       "      <td>https://www.sreality.cz/detail/pronajem/byt/2+...</td>\n",
       "      <td>25000</td>\n",
       "      <td>96</td>\n",
       "      <td>2+kk</td>\n",
       "      <td>Lešetín I, Zlín</td>\n",
       "      <td>Lešetín I</td>\n",
       "    </tr>\n",
       "    <tr>\n",
       "      <th>19</th>\n",
       "      <td>19</td>\n",
       "      <td>https://www.sreality.cz/detail/pronajem/byt/2+...</td>\n",
       "      <td>20690</td>\n",
       "      <td>64</td>\n",
       "      <td>2+kk</td>\n",
       "      <td>třída Svobody, Zlín - Malenovice</td>\n",
       "      <td>třída Svobody</td>\n",
       "    </tr>\n",
       "    <tr>\n",
       "      <th>113</th>\n",
       "      <td>113</td>\n",
       "      <td>https://www.sreality.cz/detail/pronajem/byt/2+...</td>\n",
       "      <td>25000</td>\n",
       "      <td>111</td>\n",
       "      <td>2+kk</td>\n",
       "      <td>Smetanova, Zlín</td>\n",
       "      <td>Smetanova</td>\n",
       "    </tr>\n",
       "    <tr>\n",
       "      <th>127</th>\n",
       "      <td>127</td>\n",
       "      <td>https://www.sreality.cz/detail/pronajem/byt/2+...</td>\n",
       "      <td>22000</td>\n",
       "      <td>85</td>\n",
       "      <td>2+kk</td>\n",
       "      <td>Luhačovice</td>\n",
       "      <td>Luhačovice</td>\n",
       "    </tr>\n",
       "    <tr>\n",
       "      <th>135</th>\n",
       "      <td>135</td>\n",
       "      <td>https://www.sreality.cz/detail/pronajem/byt/2+...</td>\n",
       "      <td>23000</td>\n",
       "      <td>120</td>\n",
       "      <td>2+kk</td>\n",
       "      <td>Nádražní, Luhačovice</td>\n",
       "      <td>Nádražní</td>\n",
       "    </tr>\n",
       "  </tbody>\n",
       "</table>\n",
       "</div>"
      ],
      "text/plain": [
       "     Unnamed: 0                                                url   cena  \\\n",
       "7             7  https://www.sreality.cz/detail/pronajem/byt/2+...  25000   \n",
       "19           19  https://www.sreality.cz/detail/pronajem/byt/2+...  20690   \n",
       "113         113  https://www.sreality.cz/detail/pronajem/byt/2+...  25000   \n",
       "127         127  https://www.sreality.cz/detail/pronajem/byt/2+...  22000   \n",
       "135         135  https://www.sreality.cz/detail/pronajem/byt/2+...  23000   \n",
       "\n",
       "     rozmer dispozice                            lokace          ulice  \n",
       "7        96      2+kk                   Lešetín I, Zlín      Lešetín I  \n",
       "19       64      2+kk  třída Svobody, Zlín - Malenovice  třída Svobody  \n",
       "113     111      2+kk                   Smetanova, Zlín      Smetanova  \n",
       "127      85      2+kk                        Luhačovice     Luhačovice  \n",
       "135     120      2+kk              Nádražní, Luhačovice       Nádražní  "
      ]
     },
     "execution_count": 88,
     "metadata": {},
     "output_type": "execute_result"
    }
   ],
   "source": [
    "df_drahe_byty = df[df['cena'] > 20000]  # Filtrování bytů nad 20 000 Kč\n",
    "df_drahe_male_byty = df_drahe_byty[df_drahe_byty['dispozice'].isin(['2+1', '2+kk'])]  # Jen malé byty\n",
    "df_drahe_male_byty\n"
   ]
  },
  {
   "cell_type": "code",
   "execution_count": null,
   "id": "38a03a33",
   "metadata": {},
   "outputs": [],
   "source": [
    "df_drahe_male_byty.to_excel(\"inzerce_drahych_malych_bytu.xlsx\", index=False, engine='openpyxl')"
   ]
  },
  {
   "cell_type": "markdown",
   "id": "e795803e",
   "metadata": {},
   "source": [
    "### 7 Zjištěte minimální a maximální inzerce pro každou kompozici(dispozici) bytu. Která kompozice(dispozice) má největší rozptyl mezi minimální a maximální inzerovanou cenou"
   ]
  },
  {
   "cell_type": "code",
   "execution_count": null,
   "id": "df682b91",
   "metadata": {},
   "outputs": [],
   "source": [
    "df_ceny_rozptyl = df.groupby('dispozice')['cena'].agg(['min', 'max'])\n",
    "df_ceny_rozptyl['rozptyl'] = df_ceny_rozptyl['max'] - df_ceny_rozptyl['min']\n",
    "df_ceny_rozptyl"
   ]
  },
  {
   "cell_type": "code",
   "execution_count": 90,
   "id": "fbb32d5a",
   "metadata": {},
   "outputs": [],
   "source": [
    "df_ceny_rozptyl.to_excel(\"č.7_ceny_rozptyl_kompozice.xlsx\", index=False, engine='openpyxl')"
   ]
  },
  {
   "cell_type": "code",
   "execution_count": 75,
   "id": "c0a6f925",
   "metadata": {},
   "outputs": [],
   "source": [
    "# Najdeme dispozici s největším rozptylem  Použiju .idxmax() na sloupec rozptyl:\n",
    "nejvetsi_rozptyl_dispozice = df_ceny_rozptyl['rozptyl'].idxmax()\n",
    "nejvetsi_rozptyl_hodnota = df_ceny_rozptyl['rozptyl'].max()"
   ]
  },
  {
   "cell_type": "code",
   "execution_count": 76,
   "id": "3a8b5d75",
   "metadata": {},
   "outputs": [
    {
     "name": "stdout",
     "output_type": "stream",
     "text": [
      "Největší rozptyl cen má dispozice 2+kk s rozptylem 25000 Kč.\n"
     ]
    }
   ],
   "source": [
    "print(f\"Největší rozptyl cen má dispozice {nejvetsi_rozptyl_dispozice} s rozptylem {nejvetsi_rozptyl_hodnota} Kč.\")"
   ]
  },
  {
   "cell_type": "code",
   "execution_count": null,
   "id": "23ab93de",
   "metadata": {},
   "outputs": [],
   "source": [
    "# Seskupení dat pro případný export z excelu\n",
    "df_grouped_ceny = df.groupby('dispozice')['cena'].agg(['min', 'max', 'mean']).reset_index()\n",
    "df_grouped_ceny"
   ]
  },
  {
   "cell_type": "code",
   "execution_count": 91,
   "id": "ccb4e8e9",
   "metadata": {},
   "outputs": [],
   "source": [
    "df_grouped_ceny.to_excel(\"č.prumerne_ceny_dispozice.xlsx\", index=False, engine='openpyxl')"
   ]
  },
  {
   "cell_type": "code",
   "execution_count": null,
   "id": "43b91153",
   "metadata": {},
   "outputs": [],
   "source": [
    "df_grouped_velikost = df.groupby('dispozice')['rozmer'].mean().reset_index()\n",
    "df_grouped_velikost"
   ]
  },
  {
   "cell_type": "code",
   "execution_count": null,
   "id": "9e061c7a",
   "metadata": {},
   "outputs": [],
   "source": [
    "df_pocty_dispozic = df['dispozice'].value_counts().reset_index()\n",
    "df_pocty_dispozic.columns = ['dispozice', 'pocet']\n",
    "df_pocty_dispozic"
   ]
  },
  {
   "cell_type": "code",
   "execution_count": 94,
   "id": "046ceba1",
   "metadata": {},
   "outputs": [],
   "source": [
    "df_pocty_dispozic.to_excel(\"č.pocty_dispozic.xlsx\", index=False, engine='openpyxl')"
   ]
  },
  {
   "cell_type": "code",
   "execution_count": null,
   "id": "700bec37",
   "metadata": {},
   "outputs": [],
   "source": [
    "pip install pandas openpyxl"
   ]
  },
  {
   "cell_type": "code",
   "execution_count": 85,
   "id": "2b408cce",
   "metadata": {},
   "outputs": [],
   "source": [
    "df.to_excel(\"datova_analytika_bytu.xlsx\", index=False, engine='openpyxl')"
   ]
  }
 ],
 "metadata": {
  "kernelspec": {
   "display_name": "base",
   "language": "python",
   "name": "python3"
  },
  "language_info": {
   "codemirror_mode": {
    "name": "ipython",
    "version": 3
   },
   "file_extension": ".py",
   "mimetype": "text/x-python",
   "name": "python",
   "nbconvert_exporter": "python",
   "pygments_lexer": "ipython3",
   "version": "3.12.7"
  }
 },
 "nbformat": 4,
 "nbformat_minor": 5
}
